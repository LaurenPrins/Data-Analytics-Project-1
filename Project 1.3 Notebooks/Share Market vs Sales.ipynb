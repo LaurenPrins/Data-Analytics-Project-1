{
 "cells": [
  {
   "cell_type": "code",
   "execution_count": 21,
   "metadata": {},
   "outputs": [],
   "source": [
    "\n",
    "import requests \n",
    "import matplotlib.pyplot as plt\n",
    "import csv\n",
    "import json\n",
    "import pandas as pd \n",
    "import scipy.stats as stats\n",
    "from scipy.stats import linregress\n",
    "import numpy as np"
   ]
  },
  {
   "cell_type": "code",
   "execution_count": 51,
   "metadata": {},
   "outputs": [
    {
     "data": {
      "text/plain": [
       "1      1.58%\n",
       "2    -19.42%\n",
       "3    -27.19%\n",
       "4     40.16%\n",
       "5     20.53%\n",
       "6    -10.62%\n",
       "7     11.05%\n",
       "8     -4.94%\n",
       "9      4.80%\n",
       "10     5.47%\n",
       "11    -1.53%\n",
       "12    17.47%\n",
       "13     8.06%\n",
       "14   -22.54%\n",
       "15   -34.51%\n",
       "16    63.99%\n",
       "17     0.17%\n",
       "18   -35.84%\n",
       "19    10.05%\n",
       "20     9.82%\n",
       "Name: Sales, dtype: float64"
      ]
     },
     "execution_count": 51,
     "metadata": {},
     "output_type": "execute_result"
    }
   ],
   "source": [
    "sales = \"national_sales_by_month.csv\"\n",
    "\n",
    "sales_reader = pd.read_csv(sales)\n",
    "sales_reader\n",
    "\n",
    "sales_df = pd.DataFrame(sales_reader)\n",
    "sales_change = (sales_df['Sales'].pct_change(1) * 100)\n",
    "\n",
    "sales_change.drop(sales_df.head(1).index,inplace=True)\n",
    "sales_change"
   ]
  },
  {
   "cell_type": "code",
   "execution_count": null,
   "metadata": {},
   "outputs": [],
   "source": []
  },
  {
   "cell_type": "code",
   "execution_count": 23,
   "metadata": {},
   "outputs": [
    {
     "data": {
      "text/html": [
       "<div>\n",
       "<style scoped>\n",
       "    .dataframe tbody tr th:only-of-type {\n",
       "        vertical-align: middle;\n",
       "    }\n",
       "\n",
       "    .dataframe tbody tr th {\n",
       "        vertical-align: top;\n",
       "    }\n",
       "\n",
       "    .dataframe thead th {\n",
       "        text-align: right;\n",
       "    }\n",
       "</style>\n",
       "<table border=\"1\" class=\"dataframe\">\n",
       "  <thead>\n",
       "    <tr style=\"text-align: right;\">\n",
       "      <th></th>\n",
       "      <th>Monthly Avg (%)</th>\n",
       "    </tr>\n",
       "  </thead>\n",
       "  <tbody>\n",
       "    <tr>\n",
       "      <th>1</th>\n",
       "      <td>-1.23%</td>\n",
       "    </tr>\n",
       "    <tr>\n",
       "      <th>2</th>\n",
       "      <td>0.72%</td>\n",
       "    </tr>\n",
       "    <tr>\n",
       "      <th>3</th>\n",
       "      <td>2.06%</td>\n",
       "    </tr>\n",
       "    <tr>\n",
       "      <th>4</th>\n",
       "      <td>6.66%</td>\n",
       "    </tr>\n",
       "    <tr>\n",
       "      <th>5</th>\n",
       "      <td>2.20%</td>\n",
       "    </tr>\n",
       "    <tr>\n",
       "      <th>6</th>\n",
       "      <td>0.73%</td>\n",
       "    </tr>\n",
       "    <tr>\n",
       "      <th>7</th>\n",
       "      <td>3.92%</td>\n",
       "    </tr>\n",
       "    <tr>\n",
       "      <th>8</th>\n",
       "      <td>1.74%</td>\n",
       "    </tr>\n",
       "    <tr>\n",
       "      <th>9</th>\n",
       "      <td>4.50%</td>\n",
       "    </tr>\n",
       "    <tr>\n",
       "      <th>10</th>\n",
       "      <td>1.19%</td>\n",
       "    </tr>\n",
       "    <tr>\n",
       "      <th>11</th>\n",
       "      <td>-3.24%</td>\n",
       "    </tr>\n",
       "    <tr>\n",
       "      <th>12</th>\n",
       "      <td>0.73%</td>\n",
       "    </tr>\n",
       "    <tr>\n",
       "      <th>13</th>\n",
       "      <td>1.92%</td>\n",
       "    </tr>\n",
       "    <tr>\n",
       "      <th>14</th>\n",
       "      <td>-1.19%</td>\n",
       "    </tr>\n",
       "    <tr>\n",
       "      <th>15</th>\n",
       "      <td>2.40%</td>\n",
       "    </tr>\n",
       "    <tr>\n",
       "      <th>16</th>\n",
       "      <td>2.28%</td>\n",
       "    </tr>\n",
       "    <tr>\n",
       "      <th>17</th>\n",
       "      <td>-9.46%</td>\n",
       "    </tr>\n",
       "    <tr>\n",
       "      <th>18</th>\n",
       "      <td>-28.31%</td>\n",
       "    </tr>\n",
       "  </tbody>\n",
       "</table>\n",
       "</div>"
      ],
      "text/plain": [
       "    Monthly Avg (%)\n",
       "1            -1.23%\n",
       "2             0.72%\n",
       "3             2.06%\n",
       "4             6.66%\n",
       "5             2.20%\n",
       "6             0.73%\n",
       "7             3.92%\n",
       "8             1.74%\n",
       "9             4.50%\n",
       "10            1.19%\n",
       "11           -3.24%\n",
       "12            0.73%\n",
       "13            1.92%\n",
       "14           -1.19%\n",
       "15            2.40%\n",
       "16            2.28%\n",
       "17           -9.46%\n",
       "18          -28.31%"
      ]
     },
     "execution_count": 23,
     "metadata": {},
     "output_type": "execute_result"
    }
   ],
   "source": [
    "stock = \"m_change.csv\"\n",
    "stock_reader = pd.read_csv(stock)\n",
    "\n",
    "stocks_df = pd.DataFrame(stock_reader)\n",
    "stocks_df.drop(stocks_df.tail(2).index,inplace=True)\n",
    "stocks_df.drop(stocks_df.head(1).index,inplace=True)\n",
    "\n",
    "stocks_df = stocks_df[['Monthly Avg (%)']]\n",
    "stocks_df"
   ]
  },
  {
   "cell_type": "code",
   "execution_count": 42,
   "metadata": {
    "scrolled": true
   },
   "outputs": [
    {
     "data": {
      "text/html": [
       "<div>\n",
       "<style scoped>\n",
       "    .dataframe tbody tr th:only-of-type {\n",
       "        vertical-align: middle;\n",
       "    }\n",
       "\n",
       "    .dataframe tbody tr th {\n",
       "        vertical-align: top;\n",
       "    }\n",
       "\n",
       "    .dataframe thead th {\n",
       "        text-align: right;\n",
       "    }\n",
       "</style>\n",
       "<table border=\"1\" class=\"dataframe\">\n",
       "  <thead>\n",
       "    <tr style=\"text-align: right;\">\n",
       "      <th></th>\n",
       "      <th>Sales</th>\n",
       "      <th>Monthly Avg (%)</th>\n",
       "    </tr>\n",
       "  </thead>\n",
       "  <tbody>\n",
       "    <tr>\n",
       "      <th>1</th>\n",
       "      <td>1.58%</td>\n",
       "      <td>-1.23%</td>\n",
       "    </tr>\n",
       "    <tr>\n",
       "      <th>2</th>\n",
       "      <td>-19.42%</td>\n",
       "      <td>0.72%</td>\n",
       "    </tr>\n",
       "    <tr>\n",
       "      <th>3</th>\n",
       "      <td>-27.19%</td>\n",
       "      <td>2.06%</td>\n",
       "    </tr>\n",
       "    <tr>\n",
       "      <th>4</th>\n",
       "      <td>40.16%</td>\n",
       "      <td>6.66%</td>\n",
       "    </tr>\n",
       "    <tr>\n",
       "      <th>5</th>\n",
       "      <td>20.53%</td>\n",
       "      <td>2.20%</td>\n",
       "    </tr>\n",
       "    <tr>\n",
       "      <th>6</th>\n",
       "      <td>-10.62%</td>\n",
       "      <td>0.73%</td>\n",
       "    </tr>\n",
       "    <tr>\n",
       "      <th>7</th>\n",
       "      <td>11.05%</td>\n",
       "      <td>3.92%</td>\n",
       "    </tr>\n",
       "    <tr>\n",
       "      <th>8</th>\n",
       "      <td>-4.94%</td>\n",
       "      <td>1.74%</td>\n",
       "    </tr>\n",
       "    <tr>\n",
       "      <th>9</th>\n",
       "      <td>4.80%</td>\n",
       "      <td>4.50%</td>\n",
       "    </tr>\n",
       "    <tr>\n",
       "      <th>10</th>\n",
       "      <td>5.47%</td>\n",
       "      <td>1.19%</td>\n",
       "    </tr>\n",
       "    <tr>\n",
       "      <th>11</th>\n",
       "      <td>-1.53%</td>\n",
       "      <td>-3.24%</td>\n",
       "    </tr>\n",
       "    <tr>\n",
       "      <th>12</th>\n",
       "      <td>17.47%</td>\n",
       "      <td>0.73%</td>\n",
       "    </tr>\n",
       "    <tr>\n",
       "      <th>13</th>\n",
       "      <td>8.06%</td>\n",
       "      <td>1.92%</td>\n",
       "    </tr>\n",
       "    <tr>\n",
       "      <th>14</th>\n",
       "      <td>-22.54%</td>\n",
       "      <td>-1.19%</td>\n",
       "    </tr>\n",
       "    <tr>\n",
       "      <th>15</th>\n",
       "      <td>-34.51%</td>\n",
       "      <td>2.40%</td>\n",
       "    </tr>\n",
       "    <tr>\n",
       "      <th>16</th>\n",
       "      <td>63.99%</td>\n",
       "      <td>2.28%</td>\n",
       "    </tr>\n",
       "    <tr>\n",
       "      <th>17</th>\n",
       "      <td>0.17%</td>\n",
       "      <td>-9.46%</td>\n",
       "    </tr>\n",
       "    <tr>\n",
       "      <th>18</th>\n",
       "      <td>-35.84%</td>\n",
       "      <td>-28.31%</td>\n",
       "    </tr>\n",
       "  </tbody>\n",
       "</table>\n",
       "</div>"
      ],
      "text/plain": [
       "     Sales  Monthly Avg (%)\n",
       "1    1.58%           -1.23%\n",
       "2  -19.42%            0.72%\n",
       "3  -27.19%            2.06%\n",
       "4   40.16%            6.66%\n",
       "5   20.53%            2.20%\n",
       "6  -10.62%            0.73%\n",
       "7   11.05%            3.92%\n",
       "8   -4.94%            1.74%\n",
       "9    4.80%            4.50%\n",
       "10   5.47%            1.19%\n",
       "11  -1.53%           -3.24%\n",
       "12  17.47%            0.73%\n",
       "13   8.06%            1.92%\n",
       "14 -22.54%           -1.19%\n",
       "15 -34.51%            2.40%\n",
       "16  63.99%            2.28%\n",
       "17   0.17%           -9.46%\n",
       "18 -35.84%          -28.31%"
      ]
     },
     "execution_count": 42,
     "metadata": {},
     "output_type": "execute_result"
    }
   ],
   "source": [
    "frames = [sales_change, stocks_df]\n",
    "result = pd.concat(frames, axis=1, sort=False)\n",
    "pd.options.display.float_format = '{:.2f}%'.format\n",
    "result = result.drop(result.index[[-2,-1]])\n",
    "\n",
    "result = result[['Sales','Monthly Avg (%)']]\n",
    "result"
   ]
  },
  {
   "cell_type": "code",
   "execution_count": 49,
   "metadata": {
    "scrolled": true
   },
   "outputs": [
    {
     "data": {
      "image/png": "[encoded data removed]",
      "text/plain": [
       "<Figure size 432x288 with 1 Axes>"
      ]
     },
     "metadata": {
      "needs_background": "light"
     },
     "output_type": "display_data"
    }
   ],
   "source": [
    "# set X and Y variables for our scatter plot\n",
    "x_values = result['Sales']\n",
    "y_values = result['Monthly Avg (%)']\n",
    "\n",
    "# Place the variables in our scatter plot and label them\n",
    "plt.scatter(x_values,y_values)\n",
    "plt.xlabel('% Change Property Sales')\n",
    "plt.ylabel('% Change Avg Share Value')\n",
    "plt.show()\n",
    "\n",
    "# Our Scatter Plot Shows that Share price value variation presented some stability when compared \n",
    "# with the variation in Property Sales.\n",
    "# We can notice a clear exception when both variables revealed a record drop. \n",
    "# As we've seen previously this drop relates to the beginning of Q2 2020"
   ]
  },
  {
   "cell_type": "code",
   "execution_count": 47,
   "metadata": {},
   "outputs": [
    {
     "name": "stdout",
     "output_type": "stream",
     "text": [
      "NormaltestResult(statistic=3.3334267912709192, pvalue=0.18886677708162192)\n",
      "NormaltestResult(statistic=33.01469399475924, pvalue=6.775639453367553e-08)\n"
     ]
    }
   ],
   "source": [
    "# Before further exploring this data we must find out if our samples fir in a normal distribution.\n",
    "# The following test returns a pvalue = 0.1888 for Change in Sales and pvalue = 6.7756 for \n",
    "# change in Share Value\n",
    "# Both largely exceet a 0.05 alpha, therefor we must consider the null hypothesis and \n",
    "# cannot run a linear Regression\n",
    "\n",
    "print(stats.normaltest(x_values))\n",
    "print(stats.normaltest(y_values))"
   ]
  },
  {
   "cell_type": "code",
   "execution_count": 36,
   "metadata": {},
   "outputs": [
    {
     "data": {
      "image/png": "[encoded data removed]",
      "text/plain": [
       "<Figure size 432x288 with 1 Axes>"
      ]
     },
     "metadata": {
      "needs_background": "light"
     },
     "output_type": "display_data"
    }
   ],
   "source": []
  },
  {
   "cell_type": "code",
   "execution_count": null,
   "metadata": {},
   "outputs": [],
   "source": [
    "labels = ['2018 Q4','2019 Q1','2019 Q2','2019 Q3','2019 Q4','2020 Q1','2020 Q2']"
   ]
  }
 ],
 "metadata": {
  "kernelspec": {
   "display_name": "Python 3",
   "language": "python",
   "name": "python3"
  },
  "language_info": {
   "codemirror_mode": {
    "name": "ipython",
    "version": 3
   },
   "file_extension": ".py",
   "mimetype": "text/x-python",
   "name": "python",
   "nbconvert_exporter": "python",
   "pygments_lexer": "ipython3",
   "version": "3.7.9"
  }
 },
 "nbformat": 4,
 "nbformat_minor": 4
}
