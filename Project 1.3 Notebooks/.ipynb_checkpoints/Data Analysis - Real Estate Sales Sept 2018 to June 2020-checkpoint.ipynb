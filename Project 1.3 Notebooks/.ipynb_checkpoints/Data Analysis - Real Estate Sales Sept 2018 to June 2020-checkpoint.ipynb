{
 "cells": [
  {
   "cell_type": "code",
   "execution_count": 1,
   "metadata": {
    "ExecuteTime": {
     "end_time": "2020-10-22T10:01:49.819813Z",
     "start_time": "2020-10-22T10:01:47.689392Z"
    }
   },
   "outputs": [],
   "source": [
    "import pandas as pd\n",
    "import matplotlib.pyplot as plt\n",
    "import numpy as np\n",
    "import scipy.stats as st\n",
    "import seaborn as sb\n",
    "import datetime\n",
    "from scipy.stats import linregress\n",
    "import datetime"
   ]
  },
  {
   "cell_type": "code",
   "execution_count": 2,
   "metadata": {
    "ExecuteTime": {
     "end_time": "2020-10-22T10:01:50.150690Z",
     "start_time": "2020-10-22T10:01:49.821381Z"
    }
   },
   "outputs": [
    {
     "data": {
      "text/html": [
       "<div>\n",
       "<style scoped>\n",
       "    .dataframe tbody tr th:only-of-type {\n",
       "        vertical-align: middle;\n",
       "    }\n",
       "\n",
       "    .dataframe tbody tr th {\n",
       "        vertical-align: top;\n",
       "    }\n",
       "\n",
       "    .dataframe thead th {\n",
       "        text-align: right;\n",
       "    }\n",
       "</style>\n",
       "<table border=\"1\" class=\"dataframe\">\n",
       "  <thead>\n",
       "    <tr style=\"text-align: right;\">\n",
       "      <th></th>\n",
       "      <th>date_sold</th>\n",
       "      <th>price</th>\n",
       "      <th>suburb</th>\n",
       "      <th>city_name</th>\n",
       "      <th>state</th>\n",
       "      <th>lat</th>\n",
       "      <th>lon</th>\n",
       "      <th>bedrooms</th>\n",
       "      <th>property_type</th>\n",
       "      <th>loc_pid</th>\n",
       "      <th>lga_pid</th>\n",
       "    </tr>\n",
       "  </thead>\n",
       "  <tbody>\n",
       "    <tr>\n",
       "      <th>0</th>\n",
       "      <td>2018-09-18 00:00:00</td>\n",
       "      <td>NaN</td>\n",
       "      <td>Darling Point</td>\n",
       "      <td>Sydney</td>\n",
       "      <td>NSW</td>\n",
       "      <td>-33.869565</td>\n",
       "      <td>151.241317</td>\n",
       "      <td>3</td>\n",
       "      <td>unit</td>\n",
       "      <td>NSW1221</td>\n",
       "      <td>NSW180</td>\n",
       "    </tr>\n",
       "    <tr>\n",
       "      <th>1</th>\n",
       "      <td>2018-09-24 00:00:00</td>\n",
       "      <td>NaN</td>\n",
       "      <td>Darling Point</td>\n",
       "      <td>Sydney</td>\n",
       "      <td>NSW</td>\n",
       "      <td>-33.872179</td>\n",
       "      <td>151.239726</td>\n",
       "      <td>3</td>\n",
       "      <td>unit</td>\n",
       "      <td>NSW1221</td>\n",
       "      <td>NSW180</td>\n",
       "    </tr>\n",
       "    <tr>\n",
       "      <th>2</th>\n",
       "      <td>2018-09-26 00:00:00</td>\n",
       "      <td>1730000.0</td>\n",
       "      <td>Darling Point</td>\n",
       "      <td>Sydney</td>\n",
       "      <td>NSW</td>\n",
       "      <td>-33.868386</td>\n",
       "      <td>151.237471</td>\n",
       "      <td>2</td>\n",
       "      <td>unit</td>\n",
       "      <td>NSW1221</td>\n",
       "      <td>NSW180</td>\n",
       "    </tr>\n",
       "    <tr>\n",
       "      <th>3</th>\n",
       "      <td>2018-09-26 00:00:00</td>\n",
       "      <td>1928000.0</td>\n",
       "      <td>Darling Point</td>\n",
       "      <td>Sydney</td>\n",
       "      <td>NSW</td>\n",
       "      <td>-33.875465</td>\n",
       "      <td>151.236280</td>\n",
       "      <td>3</td>\n",
       "      <td>unit</td>\n",
       "      <td>NSW1221</td>\n",
       "      <td>NSW180</td>\n",
       "    </tr>\n",
       "    <tr>\n",
       "      <th>4</th>\n",
       "      <td>2018-10-02 00:00:00</td>\n",
       "      <td>1475000.0</td>\n",
       "      <td>Darling Point</td>\n",
       "      <td>Sydney</td>\n",
       "      <td>NSW</td>\n",
       "      <td>-33.875734</td>\n",
       "      <td>151.233575</td>\n",
       "      <td>3</td>\n",
       "      <td>unit</td>\n",
       "      <td>NSW1221</td>\n",
       "      <td>NSW180</td>\n",
       "    </tr>\n",
       "    <tr>\n",
       "      <th>...</th>\n",
       "      <td>...</td>\n",
       "      <td>...</td>\n",
       "      <td>...</td>\n",
       "      <td>...</td>\n",
       "      <td>...</td>\n",
       "      <td>...</td>\n",
       "      <td>...</td>\n",
       "      <td>...</td>\n",
       "      <td>...</td>\n",
       "      <td>...</td>\n",
       "      <td>...</td>\n",
       "    </tr>\n",
       "    <tr>\n",
       "      <th>320329</th>\n",
       "      <td>2019-09-09 00:00:00</td>\n",
       "      <td>NaN</td>\n",
       "      <td>Taylor</td>\n",
       "      <td>Canberra</td>\n",
       "      <td>ACT</td>\n",
       "      <td>-35.152128</td>\n",
       "      <td>149.099435</td>\n",
       "      <td>3</td>\n",
       "      <td>townhouse</td>\n",
       "      <td>ACT934</td>\n",
       "      <td>ACT</td>\n",
       "    </tr>\n",
       "    <tr>\n",
       "      <th>320330</th>\n",
       "      <td>2019-09-10 00:00:00</td>\n",
       "      <td>549900.0</td>\n",
       "      <td>Taylor</td>\n",
       "      <td>Canberra</td>\n",
       "      <td>ACT</td>\n",
       "      <td>-35.151968</td>\n",
       "      <td>149.107229</td>\n",
       "      <td>3</td>\n",
       "      <td>townhouse</td>\n",
       "      <td>ACT934</td>\n",
       "      <td>ACT</td>\n",
       "    </tr>\n",
       "    <tr>\n",
       "      <th>320331</th>\n",
       "      <td>2019-09-10 00:00:00</td>\n",
       "      <td>499900.0</td>\n",
       "      <td>Taylor</td>\n",
       "      <td>Canberra</td>\n",
       "      <td>ACT</td>\n",
       "      <td>-35.151968</td>\n",
       "      <td>149.107229</td>\n",
       "      <td>3</td>\n",
       "      <td>townhouse</td>\n",
       "      <td>ACT934</td>\n",
       "      <td>ACT</td>\n",
       "    </tr>\n",
       "    <tr>\n",
       "      <th>320332</th>\n",
       "      <td>2020-03-10 00:00:00</td>\n",
       "      <td>434000.0</td>\n",
       "      <td>Taylor</td>\n",
       "      <td>Canberra</td>\n",
       "      <td>ACT</td>\n",
       "      <td>-35.152617</td>\n",
       "      <td>149.103578</td>\n",
       "      <td>3</td>\n",
       "      <td>townhouse</td>\n",
       "      <td>ACT934</td>\n",
       "      <td>ACT</td>\n",
       "    </tr>\n",
       "    <tr>\n",
       "      <th>320333</th>\n",
       "      <td>2020-05-19 00:00:00</td>\n",
       "      <td>420000.0</td>\n",
       "      <td>Taylor</td>\n",
       "      <td>Canberra</td>\n",
       "      <td>ACT</td>\n",
       "      <td>-35.151741</td>\n",
       "      <td>149.102781</td>\n",
       "      <td>2</td>\n",
       "      <td>townhouse</td>\n",
       "      <td>ACT934</td>\n",
       "      <td>ACT</td>\n",
       "    </tr>\n",
       "  </tbody>\n",
       "</table>\n",
       "<p>320334 rows × 11 columns</p>\n",
       "</div>"
      ],
      "text/plain": [
       "                  date_sold      price         suburb city_name state  \\\n",
       "0       2018-09-18 00:00:00        NaN  Darling Point    Sydney   NSW   \n",
       "1       2018-09-24 00:00:00        NaN  Darling Point    Sydney   NSW   \n",
       "2       2018-09-26 00:00:00  1730000.0  Darling Point    Sydney   NSW   \n",
       "3       2018-09-26 00:00:00  1928000.0  Darling Point    Sydney   NSW   \n",
       "4       2018-10-02 00:00:00  1475000.0  Darling Point    Sydney   NSW   \n",
       "...                     ...        ...            ...       ...   ...   \n",
       "320329  2019-09-09 00:00:00        NaN         Taylor  Canberra   ACT   \n",
       "320330  2019-09-10 00:00:00   549900.0         Taylor  Canberra   ACT   \n",
       "320331  2019-09-10 00:00:00   499900.0         Taylor  Canberra   ACT   \n",
       "320332  2020-03-10 00:00:00   434000.0         Taylor  Canberra   ACT   \n",
       "320333  2020-05-19 00:00:00   420000.0         Taylor  Canberra   ACT   \n",
       "\n",
       "              lat         lon  bedrooms property_type  loc_pid lga_pid  \n",
       "0      -33.869565  151.241317         3          unit  NSW1221  NSW180  \n",
       "1      -33.872179  151.239726         3          unit  NSW1221  NSW180  \n",
       "2      -33.868386  151.237471         2          unit  NSW1221  NSW180  \n",
       "3      -33.875465  151.236280         3          unit  NSW1221  NSW180  \n",
       "4      -33.875734  151.233575         3          unit  NSW1221  NSW180  \n",
       "...           ...         ...       ...           ...      ...     ...  \n",
       "320329 -35.152128  149.099435         3     townhouse   ACT934     ACT  \n",
       "320330 -35.151968  149.107229         3     townhouse   ACT934     ACT  \n",
       "320331 -35.151968  149.107229         3     townhouse   ACT934     ACT  \n",
       "320332 -35.152617  149.103578         3     townhouse   ACT934     ACT  \n",
       "320333 -35.151741  149.102781         2     townhouse   ACT934     ACT  \n",
       "\n",
       "[320334 rows x 11 columns]"
      ]
     },
     "execution_count": 2,
     "metadata": {},
     "output_type": "execute_result"
    }
   ],
   "source": [
    "realestate_sales_df = pd.read_csv(\"aus-property-sales-sep2018-april2020.csv\")\n",
    "realestate_sales_df"
   ]
  },
  {
   "cell_type": "markdown",
   "metadata": {
    "ExecuteTime": {
     "end_time": "2020-10-19T11:01:51.918095Z",
     "start_time": "2020-10-19T11:01:51.869735Z"
    }
   },
   "source": [
    "?pd.to_datetime"
   ]
  },
  {
   "cell_type": "code",
   "execution_count": 3,
   "metadata": {
    "ExecuteTime": {
     "end_time": "2020-10-22T10:01:50.212626Z",
     "start_time": "2020-10-22T10:01:50.152750Z"
    }
   },
   "outputs": [],
   "source": [
    "realestate_sales_df['date_sold'] = pd.to_datetime(realestate_sales_df['date_sold'], format=\"%Y-%m-%d %H:%M:%S\")"
   ]
  },
  {
   "cell_type": "code",
   "execution_count": 4,
   "metadata": {
    "ExecuteTime": {
     "end_time": "2020-10-22T10:01:50.229856Z",
     "start_time": "2020-10-22T10:01:50.214857Z"
    }
   },
   "outputs": [],
   "source": [
    "realestate_sales_df['quarter'] = realestate_sales_df['date_sold'].dt.quarter"
   ]
  },
  {
   "cell_type": "code",
   "execution_count": 5,
   "metadata": {
    "ExecuteTime": {
     "end_time": "2020-10-22T10:01:50.245289Z",
     "start_time": "2020-10-22T10:01:50.231111Z"
    }
   },
   "outputs": [],
   "source": [
    "realestate_sales_df['month']= realestate_sales_df['date_sold'].dt.month"
   ]
  },
  {
   "cell_type": "code",
   "execution_count": 6,
   "metadata": {
    "ExecuteTime": {
     "end_time": "2020-10-22T10:01:50.260907Z",
     "start_time": "2020-10-22T10:01:50.246682Z"
    }
   },
   "outputs": [],
   "source": [
    "realestate_sales_df['year']= realestate_sales_df['date_sold'].dt.year"
   ]
  },
  {
   "cell_type": "code",
   "execution_count": 7,
   "metadata": {
    "ExecuteTime": {
     "end_time": "2020-10-22T10:01:50.303241Z",
     "start_time": "2020-10-22T10:01:50.262423Z"
    }
   },
   "outputs": [],
   "source": [
    "realestate_sales_df['date_sold'] = pd.to_datetime(realestate_sales_df['date_sold'], format=\"%Y-%m-%d %H:%M:%S\")\n",
    "realestate_sales_df['quarter'] = realestate_sales_df['date_sold'].dt.quarter\n",
    "realestate_sales_df['year']= realestate_sales_df['date_sold'].dt.year"
   ]
  },
  {
   "cell_type": "code",
   "execution_count": 8,
   "metadata": {
    "ExecuteTime": {
     "end_time": "2020-10-22T10:01:50.333787Z",
     "start_time": "2020-10-22T10:01:50.306252Z"
    }
   },
   "outputs": [],
   "source": [
    "#Narrow data to WA only\n",
    "\n",
    "wa_realestate_df = realestate_sales_df.loc[realestate_sales_df['state']==\"WA\"]"
   ]
  },
  {
   "cell_type": "code",
   "execution_count": 9,
   "metadata": {
    "ExecuteTime": {
     "end_time": "2020-10-22T10:01:50.355561Z",
     "start_time": "2020-10-22T10:01:50.336337Z"
    }
   },
   "outputs": [
    {
     "data": {
      "text/html": [
       "<div>\n",
       "<style scoped>\n",
       "    .dataframe tbody tr th:only-of-type {\n",
       "        vertical-align: middle;\n",
       "    }\n",
       "\n",
       "    .dataframe tbody tr th {\n",
       "        vertical-align: top;\n",
       "    }\n",
       "\n",
       "    .dataframe thead th {\n",
       "        text-align: right;\n",
       "    }\n",
       "</style>\n",
       "<table border=\"1\" class=\"dataframe\">\n",
       "  <thead>\n",
       "    <tr style=\"text-align: right;\">\n",
       "      <th></th>\n",
       "      <th>date_sold</th>\n",
       "      <th>price</th>\n",
       "      <th>suburb</th>\n",
       "      <th>city_name</th>\n",
       "      <th>state</th>\n",
       "      <th>lat</th>\n",
       "      <th>lon</th>\n",
       "      <th>bedrooms</th>\n",
       "      <th>property_type</th>\n",
       "      <th>loc_pid</th>\n",
       "      <th>lga_pid</th>\n",
       "      <th>quarter</th>\n",
       "      <th>month</th>\n",
       "      <th>year</th>\n",
       "    </tr>\n",
       "  </thead>\n",
       "  <tbody>\n",
       "    <tr>\n",
       "      <th>54789</th>\n",
       "      <td>2019-02-06</td>\n",
       "      <td>120000.0</td>\n",
       "      <td>Kelmscott</td>\n",
       "      <td>Perth</td>\n",
       "      <td>WA</td>\n",
       "      <td>-32.118235</td>\n",
       "      <td>116.018271</td>\n",
       "      <td>3</td>\n",
       "      <td>unit</td>\n",
       "      <td>WA2915</td>\n",
       "      <td>WA321</td>\n",
       "      <td>1</td>\n",
       "      <td>2</td>\n",
       "      <td>2019</td>\n",
       "    </tr>\n",
       "    <tr>\n",
       "      <th>54790</th>\n",
       "      <td>2019-05-24</td>\n",
       "      <td>NaN</td>\n",
       "      <td>Kelmscott</td>\n",
       "      <td>Perth</td>\n",
       "      <td>WA</td>\n",
       "      <td>-32.117147</td>\n",
       "      <td>116.011979</td>\n",
       "      <td>3</td>\n",
       "      <td>unit</td>\n",
       "      <td>WA2915</td>\n",
       "      <td>WA321</td>\n",
       "      <td>2</td>\n",
       "      <td>5</td>\n",
       "      <td>2019</td>\n",
       "    </tr>\n",
       "    <tr>\n",
       "      <th>54791</th>\n",
       "      <td>2020-02-27</td>\n",
       "      <td>329000.0</td>\n",
       "      <td>Kelmscott</td>\n",
       "      <td>Perth</td>\n",
       "      <td>WA</td>\n",
       "      <td>-32.120796</td>\n",
       "      <td>116.019722</td>\n",
       "      <td>3</td>\n",
       "      <td>unit</td>\n",
       "      <td>WA2915</td>\n",
       "      <td>WA321</td>\n",
       "      <td>1</td>\n",
       "      <td>2</td>\n",
       "      <td>2020</td>\n",
       "    </tr>\n",
       "    <tr>\n",
       "      <th>54792</th>\n",
       "      <td>2020-06-23</td>\n",
       "      <td>159000.0</td>\n",
       "      <td>Kelmscott</td>\n",
       "      <td>Perth</td>\n",
       "      <td>WA</td>\n",
       "      <td>-32.110688</td>\n",
       "      <td>116.014602</td>\n",
       "      <td>2</td>\n",
       "      <td>unit</td>\n",
       "      <td>WA2915</td>\n",
       "      <td>WA321</td>\n",
       "      <td>2</td>\n",
       "      <td>6</td>\n",
       "      <td>2020</td>\n",
       "    </tr>\n",
       "    <tr>\n",
       "      <th>54793</th>\n",
       "      <td>2019-04-22</td>\n",
       "      <td>NaN</td>\n",
       "      <td>Piara Waters</td>\n",
       "      <td>Perth</td>\n",
       "      <td>WA</td>\n",
       "      <td>-32.137776</td>\n",
       "      <td>115.928161</td>\n",
       "      <td>3</td>\n",
       "      <td>unit</td>\n",
       "      <td>WA3112</td>\n",
       "      <td>WA321</td>\n",
       "      <td>2</td>\n",
       "      <td>4</td>\n",
       "      <td>2019</td>\n",
       "    </tr>\n",
       "    <tr>\n",
       "      <th>...</th>\n",
       "      <td>...</td>\n",
       "      <td>...</td>\n",
       "      <td>...</td>\n",
       "      <td>...</td>\n",
       "      <td>...</td>\n",
       "      <td>...</td>\n",
       "      <td>...</td>\n",
       "      <td>...</td>\n",
       "      <td>...</td>\n",
       "      <td>...</td>\n",
       "      <td>...</td>\n",
       "      <td>...</td>\n",
       "      <td>...</td>\n",
       "      <td>...</td>\n",
       "    </tr>\n",
       "    <tr>\n",
       "      <th>313743</th>\n",
       "      <td>2020-03-21</td>\n",
       "      <td>870000.0</td>\n",
       "      <td>Burswood</td>\n",
       "      <td>Perth</td>\n",
       "      <td>WA</td>\n",
       "      <td>-31.957961</td>\n",
       "      <td>115.895464</td>\n",
       "      <td>4</td>\n",
       "      <td>townhouse</td>\n",
       "      <td>WA3151</td>\n",
       "      <td>WA316</td>\n",
       "      <td>1</td>\n",
       "      <td>3</td>\n",
       "      <td>2020</td>\n",
       "    </tr>\n",
       "    <tr>\n",
       "      <th>313744</th>\n",
       "      <td>2020-05-11</td>\n",
       "      <td>NaN</td>\n",
       "      <td>Burswood</td>\n",
       "      <td>Perth</td>\n",
       "      <td>WA</td>\n",
       "      <td>-31.969290</td>\n",
       "      <td>115.896280</td>\n",
       "      <td>3</td>\n",
       "      <td>townhouse</td>\n",
       "      <td>WA3151</td>\n",
       "      <td>WA316</td>\n",
       "      <td>2</td>\n",
       "      <td>5</td>\n",
       "      <td>2020</td>\n",
       "    </tr>\n",
       "    <tr>\n",
       "      <th>313745</th>\n",
       "      <td>2019-04-20</td>\n",
       "      <td>NaN</td>\n",
       "      <td>Lathlain</td>\n",
       "      <td>Perth</td>\n",
       "      <td>WA</td>\n",
       "      <td>-31.970371</td>\n",
       "      <td>115.903924</td>\n",
       "      <td>3</td>\n",
       "      <td>townhouse</td>\n",
       "      <td>WA3334</td>\n",
       "      <td>WA316</td>\n",
       "      <td>2</td>\n",
       "      <td>4</td>\n",
       "      <td>2019</td>\n",
       "    </tr>\n",
       "    <tr>\n",
       "      <th>313746</th>\n",
       "      <td>2019-07-19</td>\n",
       "      <td>NaN</td>\n",
       "      <td>Lathlain</td>\n",
       "      <td>Perth</td>\n",
       "      <td>WA</td>\n",
       "      <td>-31.974653</td>\n",
       "      <td>115.906999</td>\n",
       "      <td>3</td>\n",
       "      <td>townhouse</td>\n",
       "      <td>WA3334</td>\n",
       "      <td>WA316</td>\n",
       "      <td>3</td>\n",
       "      <td>7</td>\n",
       "      <td>2019</td>\n",
       "    </tr>\n",
       "    <tr>\n",
       "      <th>313747</th>\n",
       "      <td>2019-08-22</td>\n",
       "      <td>NaN</td>\n",
       "      <td>Lathlain</td>\n",
       "      <td>Perth</td>\n",
       "      <td>WA</td>\n",
       "      <td>-31.974091</td>\n",
       "      <td>115.907209</td>\n",
       "      <td>3</td>\n",
       "      <td>townhouse</td>\n",
       "      <td>WA3334</td>\n",
       "      <td>WA316</td>\n",
       "      <td>3</td>\n",
       "      <td>8</td>\n",
       "      <td>2019</td>\n",
       "    </tr>\n",
       "  </tbody>\n",
       "</table>\n",
       "<p>39661 rows × 14 columns</p>\n",
       "</div>"
      ],
      "text/plain": [
       "        date_sold     price        suburb city_name state        lat  \\\n",
       "54789  2019-02-06  120000.0     Kelmscott     Perth    WA -32.118235   \n",
       "54790  2019-05-24       NaN     Kelmscott     Perth    WA -32.117147   \n",
       "54791  2020-02-27  329000.0     Kelmscott     Perth    WA -32.120796   \n",
       "54792  2020-06-23  159000.0     Kelmscott     Perth    WA -32.110688   \n",
       "54793  2019-04-22       NaN  Piara Waters     Perth    WA -32.137776   \n",
       "...           ...       ...           ...       ...   ...        ...   \n",
       "313743 2020-03-21  870000.0      Burswood     Perth    WA -31.957961   \n",
       "313744 2020-05-11       NaN      Burswood     Perth    WA -31.969290   \n",
       "313745 2019-04-20       NaN      Lathlain     Perth    WA -31.970371   \n",
       "313746 2019-07-19       NaN      Lathlain     Perth    WA -31.974653   \n",
       "313747 2019-08-22       NaN      Lathlain     Perth    WA -31.974091   \n",
       "\n",
       "               lon  bedrooms property_type loc_pid lga_pid  quarter  month  \\\n",
       "54789   116.018271         3          unit  WA2915   WA321        1      2   \n",
       "54790   116.011979         3          unit  WA2915   WA321        2      5   \n",
       "54791   116.019722         3          unit  WA2915   WA321        1      2   \n",
       "54792   116.014602         2          unit  WA2915   WA321        2      6   \n",
       "54793   115.928161         3          unit  WA3112   WA321        2      4   \n",
       "...            ...       ...           ...     ...     ...      ...    ...   \n",
       "313743  115.895464         4     townhouse  WA3151   WA316        1      3   \n",
       "313744  115.896280         3     townhouse  WA3151   WA316        2      5   \n",
       "313745  115.903924         3     townhouse  WA3334   WA316        2      4   \n",
       "313746  115.906999         3     townhouse  WA3334   WA316        3      7   \n",
       "313747  115.907209         3     townhouse  WA3334   WA316        3      8   \n",
       "\n",
       "        year  \n",
       "54789   2019  \n",
       "54790   2019  \n",
       "54791   2020  \n",
       "54792   2020  \n",
       "54793   2019  \n",
       "...      ...  \n",
       "313743  2020  \n",
       "313744  2020  \n",
       "313745  2019  \n",
       "313746  2019  \n",
       "313747  2019  \n",
       "\n",
       "[39661 rows x 14 columns]"
      ]
     },
     "execution_count": 9,
     "metadata": {},
     "output_type": "execute_result"
    }
   ],
   "source": [
    "wa_realestate_df"
   ]
  },
  {
   "cell_type": "code",
   "execution_count": 10,
   "metadata": {
    "ExecuteTime": {
     "end_time": "2020-10-22T10:01:50.380319Z",
     "start_time": "2020-10-22T10:01:50.356946Z"
    }
   },
   "outputs": [
    {
     "data": {
      "text/html": [
       "<div>\n",
       "<style scoped>\n",
       "    .dataframe tbody tr th:only-of-type {\n",
       "        vertical-align: middle;\n",
       "    }\n",
       "\n",
       "    .dataframe tbody tr th {\n",
       "        vertical-align: top;\n",
       "    }\n",
       "\n",
       "    .dataframe thead th {\n",
       "        text-align: right;\n",
       "    }\n",
       "</style>\n",
       "<table border=\"1\" class=\"dataframe\">\n",
       "  <thead>\n",
       "    <tr style=\"text-align: right;\">\n",
       "      <th></th>\n",
       "      <th>date_sold</th>\n",
       "      <th>price</th>\n",
       "      <th>suburb</th>\n",
       "      <th>city_name</th>\n",
       "      <th>state</th>\n",
       "      <th>lat</th>\n",
       "      <th>lon</th>\n",
       "      <th>bedrooms</th>\n",
       "      <th>property_type</th>\n",
       "      <th>loc_pid</th>\n",
       "      <th>lga_pid</th>\n",
       "      <th>quarter</th>\n",
       "      <th>month</th>\n",
       "      <th>year</th>\n",
       "    </tr>\n",
       "  </thead>\n",
       "  <tbody>\n",
       "    <tr>\n",
       "      <th>235071</th>\n",
       "      <td>2018-09-02</td>\n",
       "      <td>530000.0</td>\n",
       "      <td>East Victoria Park</td>\n",
       "      <td>Perth</td>\n",
       "      <td>WA</td>\n",
       "      <td>-31.989368</td>\n",
       "      <td>115.903813</td>\n",
       "      <td>3</td>\n",
       "      <td>house</td>\n",
       "      <td>WA3143</td>\n",
       "      <td>WA316</td>\n",
       "      <td>3</td>\n",
       "      <td>9</td>\n",
       "      <td>2018</td>\n",
       "    </tr>\n",
       "    <tr>\n",
       "      <th>202249</th>\n",
       "      <td>2018-09-02</td>\n",
       "      <td>170000.0</td>\n",
       "      <td>Armadale</td>\n",
       "      <td>Perth</td>\n",
       "      <td>WA</td>\n",
       "      <td>-32.143731</td>\n",
       "      <td>115.994765</td>\n",
       "      <td>3</td>\n",
       "      <td>house</td>\n",
       "      <td>WA3220</td>\n",
       "      <td>WA321</td>\n",
       "      <td>3</td>\n",
       "      <td>9</td>\n",
       "      <td>2018</td>\n",
       "    </tr>\n",
       "    <tr>\n",
       "      <th>228033</th>\n",
       "      <td>2018-09-02</td>\n",
       "      <td>NaN</td>\n",
       "      <td>Two Rocks</td>\n",
       "      <td>Perth</td>\n",
       "      <td>WA</td>\n",
       "      <td>-31.505544</td>\n",
       "      <td>115.599803</td>\n",
       "      <td>3</td>\n",
       "      <td>house</td>\n",
       "      <td>WA2518</td>\n",
       "      <td>WA309</td>\n",
       "      <td>3</td>\n",
       "      <td>9</td>\n",
       "      <td>2018</td>\n",
       "    </tr>\n",
       "    <tr>\n",
       "      <th>57108</th>\n",
       "      <td>2018-09-02</td>\n",
       "      <td>280000.0</td>\n",
       "      <td>Como</td>\n",
       "      <td>Perth</td>\n",
       "      <td>WA</td>\n",
       "      <td>-31.993275</td>\n",
       "      <td>115.873553</td>\n",
       "      <td>2</td>\n",
       "      <td>unit</td>\n",
       "      <td>WA3142</td>\n",
       "      <td>WA318</td>\n",
       "      <td>3</td>\n",
       "      <td>9</td>\n",
       "      <td>2018</td>\n",
       "    </tr>\n",
       "    <tr>\n",
       "      <th>54858</th>\n",
       "      <td>2018-09-02</td>\n",
       "      <td>155500.0</td>\n",
       "      <td>Maylands</td>\n",
       "      <td>Perth</td>\n",
       "      <td>WA</td>\n",
       "      <td>-31.935291</td>\n",
       "      <td>115.901328</td>\n",
       "      <td>1</td>\n",
       "      <td>unit</td>\n",
       "      <td>WA3156</td>\n",
       "      <td>WA314</td>\n",
       "      <td>3</td>\n",
       "      <td>9</td>\n",
       "      <td>2018</td>\n",
       "    </tr>\n",
       "    <tr>\n",
       "      <th>...</th>\n",
       "      <td>...</td>\n",
       "      <td>...</td>\n",
       "      <td>...</td>\n",
       "      <td>...</td>\n",
       "      <td>...</td>\n",
       "      <td>...</td>\n",
       "      <td>...</td>\n",
       "      <td>...</td>\n",
       "      <td>...</td>\n",
       "      <td>...</td>\n",
       "      <td>...</td>\n",
       "      <td>...</td>\n",
       "      <td>...</td>\n",
       "      <td>...</td>\n",
       "    </tr>\n",
       "    <tr>\n",
       "      <th>215228</th>\n",
       "      <td>2020-07-16</td>\n",
       "      <td>NaN</td>\n",
       "      <td>Bateman</td>\n",
       "      <td>Perth</td>\n",
       "      <td>WA</td>\n",
       "      <td>-32.049090</td>\n",
       "      <td>115.844721</td>\n",
       "      <td>4</td>\n",
       "      <td>house</td>\n",
       "      <td>WA3104</td>\n",
       "      <td>WA312</td>\n",
       "      <td>3</td>\n",
       "      <td>7</td>\n",
       "      <td>2020</td>\n",
       "    </tr>\n",
       "    <tr>\n",
       "      <th>229519</th>\n",
       "      <td>2020-07-16</td>\n",
       "      <td>670000.0</td>\n",
       "      <td>Clarkson</td>\n",
       "      <td>Perth</td>\n",
       "      <td>WA</td>\n",
       "      <td>-31.695755</td>\n",
       "      <td>115.721247</td>\n",
       "      <td>4</td>\n",
       "      <td>house</td>\n",
       "      <td>WA3199</td>\n",
       "      <td>WA309</td>\n",
       "      <td>3</td>\n",
       "      <td>7</td>\n",
       "      <td>2020</td>\n",
       "    </tr>\n",
       "    <tr>\n",
       "      <th>312607</th>\n",
       "      <td>2020-07-16</td>\n",
       "      <td>NaN</td>\n",
       "      <td>Maylands</td>\n",
       "      <td>Perth</td>\n",
       "      <td>WA</td>\n",
       "      <td>-31.941193</td>\n",
       "      <td>115.906177</td>\n",
       "      <td>2</td>\n",
       "      <td>townhouse</td>\n",
       "      <td>WA3156</td>\n",
       "      <td>WA314</td>\n",
       "      <td>3</td>\n",
       "      <td>7</td>\n",
       "      <td>2020</td>\n",
       "    </tr>\n",
       "    <tr>\n",
       "      <th>213000</th>\n",
       "      <td>2020-07-16</td>\n",
       "      <td>NaN</td>\n",
       "      <td>Kingsley</td>\n",
       "      <td>Perth</td>\n",
       "      <td>WA</td>\n",
       "      <td>-31.800630</td>\n",
       "      <td>115.785950</td>\n",
       "      <td>5</td>\n",
       "      <td>house</td>\n",
       "      <td>WA3187</td>\n",
       "      <td>WA371</td>\n",
       "      <td>3</td>\n",
       "      <td>7</td>\n",
       "      <td>2020</td>\n",
       "    </tr>\n",
       "    <tr>\n",
       "      <th>227547</th>\n",
       "      <td>2020-07-16</td>\n",
       "      <td>NaN</td>\n",
       "      <td>Mount Hawthorn</td>\n",
       "      <td>Perth</td>\n",
       "      <td>WA</td>\n",
       "      <td>-31.918290</td>\n",
       "      <td>115.828430</td>\n",
       "      <td>3</td>\n",
       "      <td>house</td>\n",
       "      <td>WA3141</td>\n",
       "      <td>WA310</td>\n",
       "      <td>3</td>\n",
       "      <td>7</td>\n",
       "      <td>2020</td>\n",
       "    </tr>\n",
       "  </tbody>\n",
       "</table>\n",
       "<p>39661 rows × 14 columns</p>\n",
       "</div>"
      ],
      "text/plain": [
       "        date_sold     price              suburb city_name state        lat  \\\n",
       "235071 2018-09-02  530000.0  East Victoria Park     Perth    WA -31.989368   \n",
       "202249 2018-09-02  170000.0            Armadale     Perth    WA -32.143731   \n",
       "228033 2018-09-02       NaN           Two Rocks     Perth    WA -31.505544   \n",
       "57108  2018-09-02  280000.0                Como     Perth    WA -31.993275   \n",
       "54858  2018-09-02  155500.0            Maylands     Perth    WA -31.935291   \n",
       "...           ...       ...                 ...       ...   ...        ...   \n",
       "215228 2020-07-16       NaN             Bateman     Perth    WA -32.049090   \n",
       "229519 2020-07-16  670000.0            Clarkson     Perth    WA -31.695755   \n",
       "312607 2020-07-16       NaN            Maylands     Perth    WA -31.941193   \n",
       "213000 2020-07-16       NaN            Kingsley     Perth    WA -31.800630   \n",
       "227547 2020-07-16       NaN      Mount Hawthorn     Perth    WA -31.918290   \n",
       "\n",
       "               lon  bedrooms property_type loc_pid lga_pid  quarter  month  \\\n",
       "235071  115.903813         3         house  WA3143   WA316        3      9   \n",
       "202249  115.994765         3         house  WA3220   WA321        3      9   \n",
       "228033  115.599803         3         house  WA2518   WA309        3      9   \n",
       "57108   115.873553         2          unit  WA3142   WA318        3      9   \n",
       "54858   115.901328         1          unit  WA3156   WA314        3      9   \n",
       "...            ...       ...           ...     ...     ...      ...    ...   \n",
       "215228  115.844721         4         house  WA3104   WA312        3      7   \n",
       "229519  115.721247         4         house  WA3199   WA309        3      7   \n",
       "312607  115.906177         2     townhouse  WA3156   WA314        3      7   \n",
       "213000  115.785950         5         house  WA3187   WA371        3      7   \n",
       "227547  115.828430         3         house  WA3141   WA310        3      7   \n",
       "\n",
       "        year  \n",
       "235071  2018  \n",
       "202249  2018  \n",
       "228033  2018  \n",
       "57108   2018  \n",
       "54858   2018  \n",
       "...      ...  \n",
       "215228  2020  \n",
       "229519  2020  \n",
       "312607  2020  \n",
       "213000  2020  \n",
       "227547  2020  \n",
       "\n",
       "[39661 rows x 14 columns]"
      ]
     },
     "execution_count": 10,
     "metadata": {},
     "output_type": "execute_result"
    }
   ],
   "source": [
    "wa_realestate_df.sort_values(['date_sold'], ascending = True) "
   ]
  },
  {
   "cell_type": "code",
   "execution_count": 11,
   "metadata": {
    "ExecuteTime": {
     "end_time": "2020-10-22T10:01:50.386261Z",
     "start_time": "2020-10-22T10:01:50.381658Z"
    }
   },
   "outputs": [
    {
     "data": {
      "text/plain": [
       "array(['unit', 'house', 'townhouse'], dtype=object)"
      ]
     },
     "execution_count": 11,
     "metadata": {},
     "output_type": "execute_result"
    }
   ],
   "source": [
    "wa_realestate_df.property_type.unique()"
   ]
  },
  {
   "cell_type": "code",
   "execution_count": 12,
   "metadata": {
    "ExecuteTime": {
     "end_time": "2020-10-22T10:01:50.392987Z",
     "start_time": "2020-10-22T10:01:50.387642Z"
    },
    "scrolled": true
   },
   "outputs": [
    {
     "data": {
      "text/plain": [
       "array(['Kelmscott', 'Piara Waters', 'Armadale', 'Mount Richon',\n",
       "       'Bayswater', 'Morley', 'Maylands', 'Embleton', 'Rivervale',\n",
       "       'Cloverdale', 'Redcliffe', 'Belmont', 'Ascot', 'Canning Vale',\n",
       "       'Willetton', 'Shelley', 'Parkwood', 'Riverton', 'Wilson',\n",
       "       'Cannington', 'Ferndale', 'Bentley', 'Queens Park',\n",
       "       'East Cannington', 'Lynwood', 'St James', 'Munster', 'Beeliar',\n",
       "       'Atwell', 'Success', 'Coogee', 'Spearwood', 'Hamilton Hill',\n",
       "       'North Coogee', 'Yangebup', 'Coolbellup', 'Leeming',\n",
       "       'Hammond Park', 'Aubin Grove', 'Cockburn Central', 'Fremantle',\n",
       "       'South Fremantle', \"O'Connor\", 'North Fremantle', 'Beaconsfield',\n",
       "       'White Gum Valley', 'Martin', 'Thornlie', 'Gosnells', 'Maddington',\n",
       "       'Beckenham', 'Woodvale', 'Joondalup', 'Duncraig', 'Greenwood',\n",
       "       'Warwick', 'Hillarys', 'Heathridge', 'Mullaloo', 'Craigie',\n",
       "       'Edgewater', 'Kingsley', 'Ocean Reef', 'Sorrento', 'Marmion',\n",
       "       'Beldon', 'Kinross', 'Connolly', 'Currambine', 'Wellard',\n",
       "       'Calista', 'Parmelia', 'Medina', 'Orelia', 'Bicton', 'Kardinya',\n",
       "       'Bull Creek', 'Murdoch', 'Attadale', 'Willagee', 'Booragoon',\n",
       "       'Mount Pleasant', 'Ardross', 'Applecross', 'Palmyra', 'Melville',\n",
       "       'Myaree', 'Alfred Cove', 'Mount Claremont', 'Swanbourne',\n",
       "       'Dalkeith', 'Nedlands', 'Shenton Park', 'Floreat', 'West Perth',\n",
       "       'Perth', 'East Perth', 'Crawley', 'Northbridge', 'Baldivis',\n",
       "       'Port Kennedy', 'Warnbro', 'Waikiki', 'Rockingham', 'Cooloongup',\n",
       "       'Safety Bay', 'Shoalwater', 'Como', 'Kensington', 'South Perth',\n",
       "       'Manning', 'Dianella', 'Scarborough', 'Doubleview', 'Wembley',\n",
       "       'Osborne Park', 'Yokine', 'Mount Lawley', 'Inglewood', 'Trigg',\n",
       "       'Karrinyup', 'Carine', 'Balcatta', 'Balga', 'Westminster',\n",
       "       'Mirrabooka', 'Wembley Downs', 'Churchlands', 'Innaloo',\n",
       "       'Woodlands', 'Coolbinia', 'Joondanna', 'Tuart Hill', 'North Beach',\n",
       "       'Watermans Bay', 'Nollamara', 'Glendalough', 'Subiaco', 'Daglish',\n",
       "       'Jolimont', 'Ellenbrook', 'Caversham', 'Middle Swan', 'Guildford',\n",
       "       'Noranda', 'Ballajura', 'Midland', 'Bellevue', 'Swan View',\n",
       "       'The Vines', 'Lockridge', 'Woodbridge', 'Viveash', 'Kiara',\n",
       "       'Dayton', 'Brabham', 'Mount Hawthorn', 'Leederville',\n",
       "       'North Perth', 'Highgate', 'Yanchep', 'Alkimos', 'Wanneroo',\n",
       "       'Marangaroo', 'Girrawheen', 'Clarkson', 'Mindarie', 'Quinns Rocks',\n",
       "       'Butler', 'Tapping', 'Madeley', 'Darch', 'Pearsall', 'Hocking',\n",
       "       'Kewdale', 'Forrestfield', 'Kalamunda', 'Gooseberry Hill',\n",
       "       'Helena Valley', 'Mundaring', 'Greenmount', 'Peppermint Grove',\n",
       "       'Serpentine', 'Darling Downs', 'Eden Hill', 'Bassendean',\n",
       "       'Ashfield', 'West Leederville', 'Claremont', 'Cottesloe',\n",
       "       'East Fremantle', 'Mosman Park', 'East Victoria Park',\n",
       "       'Victoria Park', 'Carlisle', 'Burswood', 'Lathlain', 'Bedfordale',\n",
       "       'Roleystone', 'Karragullen', 'Forrestdale', 'Hilbert', 'Wungong',\n",
       "       'Champion Lakes', 'Haynes', 'Harrisdale', 'Seville Grove',\n",
       "       'Camillo', 'Brookdale', 'Mount Nasura', 'Bedford', 'Rossmoyne',\n",
       "       'Bibra Lake', 'Banjup', 'Jandakot', 'South Lake', 'North Lake',\n",
       "       'Treeby', 'Hilton', 'Samson', 'Southern River', 'Kenwick',\n",
       "       'Huntingdale', 'Langford', 'Orange Grove', 'Padbury', 'Kallaroo',\n",
       "       'Iluka', 'Burns Beach', 'Leda', 'Bertram', 'Hope Valley',\n",
       "       'Casuarina', 'Anketell', 'Wandi', 'Kwinana Town Centre', 'Bateman',\n",
       "       'Winthrop', 'Brentwood', 'Karnup', 'Singleton', 'Golden Bay',\n",
       "       'Secret Harbour', 'Hillman', 'Salter Point', 'Karawara',\n",
       "       'Waterford', 'Gwelup', 'Stirling', 'Hamersley', 'Menora',\n",
       "       'Bullsbrook', 'Gidgegannup', 'Lexia', 'Hazelmere', 'West Swan',\n",
       "       'Henley Brook', 'Millendon', 'Brigadoon', 'Upper Swan',\n",
       "       'South Guildford', 'Beechboro', 'Midvale', 'Stratton',\n",
       "       'Herne Hill', 'Jane Brook', 'Aveley', 'Koongamia',\n",
       "       'Bennett Springs', 'Bushmead', 'Mariginiup', 'Two Rocks',\n",
       "       'Landsdale', 'Gnangara', 'Eglinton', 'Jandabup', 'Nowergup',\n",
       "       'Alexander Heights', 'Koondoola', 'Jindalee', 'Merriwa', 'Sinagra',\n",
       "       'Carramar', 'Banksia Grove', 'Ridgewood', 'Ashby',\n",
       "       'Pickering Brook', 'Carmel', 'Lesmurdie', 'Maida Vale',\n",
       "       'Piesse Brook', 'Bickley', 'Wattle Grove', 'High Wycombe',\n",
       "       'Walliston', 'Sawyers Valley', 'Chidlow', 'Darlington',\n",
       "       'Glen Forrest', 'Mahogany Creek', 'Hovea', 'Parkerville',\n",
       "       'Stoneville', 'Mount Helena', 'Beechina', 'Wooroloo', 'Boya',\n",
       "       'Keysbrook', 'Mardella', 'Jarrahdale', 'Hopeland', 'Karrakup',\n",
       "       'Oakford', 'Mundijong', 'Whitby', 'Cardup', 'Byford', 'City Beach'],\n",
       "      dtype=object)"
      ]
     },
     "execution_count": 12,
     "metadata": {},
     "output_type": "execute_result"
    }
   ],
   "source": [
    "wa_realestate_df.suburb.unique()"
   ]
  },
  {
   "cell_type": "code",
   "execution_count": 13,
   "metadata": {
    "ExecuteTime": {
     "end_time": "2020-10-22T10:01:50.402453Z",
     "start_time": "2020-10-22T10:01:50.394367Z"
    }
   },
   "outputs": [
    {
     "data": {
      "text/plain": [
       "Baldivis          760\n",
       "Canning Vale      558\n",
       "Scarborough       479\n",
       "Dianella          463\n",
       "Morley            441\n",
       "Thornlie          421\n",
       "Ellenbrook        417\n",
       "Rockingham        380\n",
       "South Perth       366\n",
       "East Perth        363\n",
       "Maylands          362\n",
       "Duncraig          360\n",
       "Perth             349\n",
       "Como              348\n",
       "Gosnells          338\n",
       "Bayswater         331\n",
       "Byford            319\n",
       "Willetton         319\n",
       "Clarkson          310\n",
       "Butler            293\n",
       "Secret Harbour    292\n",
       "Mount Lawley      291\n",
       "Claremont         291\n",
       "Wembley           290\n",
       "Subiaco           273\n",
       "Armadale          272\n",
       "Port Kennedy      270\n",
       "Waikiki           268\n",
       "Ballajura         268\n",
       "Rivervale         261\n",
       "Name: suburb, dtype: int64"
      ]
     },
     "execution_count": 13,
     "metadata": {},
     "output_type": "execute_result"
    }
   ],
   "source": [
    "totsales_suburb = wa_realestate_df['suburb'].value_counts()\n",
    "totsales_suburb.head(30)"
   ]
  },
  {
   "cell_type": "code",
   "execution_count": 14,
   "metadata": {
    "ExecuteTime": {
     "end_time": "2020-10-22T10:01:50.410802Z",
     "start_time": "2020-10-22T10:01:50.403819Z"
    }
   },
   "outputs": [
    {
     "data": {
      "text/plain": [
       "house        34299\n",
       "unit          4138\n",
       "townhouse     1224\n",
       "Name: property_type, dtype: int64"
      ]
     },
     "execution_count": 14,
     "metadata": {},
     "output_type": "execute_result"
    }
   ],
   "source": [
    "totsales_property = wa_realestate_df['property_type'].value_counts()\n",
    "totsales_property"
   ]
  },
  {
   "cell_type": "code",
   "execution_count": 15,
   "metadata": {
    "ExecuteTime": {
     "end_time": "2020-10-22T10:01:50.533171Z",
     "start_time": "2020-10-22T10:01:50.412129Z"
    }
   },
   "outputs": [
    {
     "data": {
      "image/png": "[encoded data removed]",
      "text/plain": [
       "<Figure size 432x288 with 1 Axes>"
      ]
     },
     "metadata": {},
     "output_type": "display_data"
    }
   ],
   "source": [
    "plt.pie(totsales_property, labels=['House','Unit', 'Townhouse'], radius = 2, autopct='%1.1f%%')\n",
    "plt.title(\"Sales from September 2018 to July 2020 broken down by category\", y= 1.5)\n",
    "plt.show()"
   ]
  },
  {
   "cell_type": "code",
   "execution_count": 16,
   "metadata": {
    "ExecuteTime": {
     "end_time": "2020-10-22T10:01:50.538446Z",
     "start_time": "2020-10-22T10:01:50.534690Z"
    }
   },
   "outputs": [
    {
     "name": "stdout",
     "output_type": "stream",
     "text": [
      "date_sold        datetime64[ns]\n",
      "price                   float64\n",
      "suburb                   object\n",
      "city_name                object\n",
      "state                    object\n",
      "lat                     float64\n",
      "lon                     float64\n",
      "bedrooms                  int64\n",
      "property_type            object\n",
      "loc_pid                  object\n",
      "lga_pid                  object\n",
      "quarter                   int64\n",
      "month                     int64\n",
      "year                      int64\n",
      "dtype: object\n"
     ]
    }
   ],
   "source": [
    "print(wa_realestate_df.dtypes)"
   ]
  },
  {
   "cell_type": "code",
   "execution_count": 17,
   "metadata": {
    "ExecuteTime": {
     "end_time": "2020-10-22T10:01:50.543240Z",
     "start_time": "2020-10-22T10:01:50.539837Z"
    }
   },
   "outputs": [
    {
     "data": {
      "text/plain": [
       "12995"
      ]
     },
     "execution_count": 17,
     "metadata": {},
     "output_type": "execute_result"
    }
   ],
   "source": [
    "wa_realestate_df.price.isnull().sum().sum()"
   ]
  },
  {
   "cell_type": "markdown",
   "metadata": {},
   "source": [
    "# Break Dataframe into Separate Dataframes for Year"
   ]
  },
  {
   "cell_type": "code",
   "execution_count": 18,
   "metadata": {
    "ExecuteTime": {
     "end_time": "2020-10-22T10:01:50.564939Z",
     "start_time": "2020-10-22T10:01:50.544567Z"
    }
   },
   "outputs": [
    {
     "data": {
      "text/html": [
       "<div>\n",
       "<style scoped>\n",
       "    .dataframe tbody tr th:only-of-type {\n",
       "        vertical-align: middle;\n",
       "    }\n",
       "\n",
       "    .dataframe tbody tr th {\n",
       "        vertical-align: top;\n",
       "    }\n",
       "\n",
       "    .dataframe thead th {\n",
       "        text-align: right;\n",
       "    }\n",
       "</style>\n",
       "<table border=\"1\" class=\"dataframe\">\n",
       "  <thead>\n",
       "    <tr style=\"text-align: right;\">\n",
       "      <th></th>\n",
       "      <th>date_sold</th>\n",
       "      <th>price</th>\n",
       "      <th>suburb</th>\n",
       "      <th>city_name</th>\n",
       "      <th>state</th>\n",
       "      <th>lat</th>\n",
       "      <th>lon</th>\n",
       "      <th>bedrooms</th>\n",
       "      <th>property_type</th>\n",
       "      <th>loc_pid</th>\n",
       "      <th>lga_pid</th>\n",
       "      <th>quarter</th>\n",
       "      <th>month</th>\n",
       "      <th>year</th>\n",
       "    </tr>\n",
       "  </thead>\n",
       "  <tbody>\n",
       "    <tr>\n",
       "      <th>54795</th>\n",
       "      <td>2018-10-08</td>\n",
       "      <td>169000.0</td>\n",
       "      <td>Armadale</td>\n",
       "      <td>Perth</td>\n",
       "      <td>WA</td>\n",
       "      <td>-32.147623</td>\n",
       "      <td>116.014992</td>\n",
       "      <td>2</td>\n",
       "      <td>unit</td>\n",
       "      <td>WA3220</td>\n",
       "      <td>WA321</td>\n",
       "      <td>4</td>\n",
       "      <td>10</td>\n",
       "      <td>2018</td>\n",
       "    </tr>\n",
       "    <tr>\n",
       "      <th>54796</th>\n",
       "      <td>2018-12-20</td>\n",
       "      <td>219000.0</td>\n",
       "      <td>Armadale</td>\n",
       "      <td>Perth</td>\n",
       "      <td>WA</td>\n",
       "      <td>-32.154939</td>\n",
       "      <td>116.010104</td>\n",
       "      <td>3</td>\n",
       "      <td>unit</td>\n",
       "      <td>WA3220</td>\n",
       "      <td>WA321</td>\n",
       "      <td>4</td>\n",
       "      <td>12</td>\n",
       "      <td>2018</td>\n",
       "    </tr>\n",
       "    <tr>\n",
       "      <th>54829</th>\n",
       "      <td>2018-10-23</td>\n",
       "      <td>144500.0</td>\n",
       "      <td>Bayswater</td>\n",
       "      <td>Perth</td>\n",
       "      <td>WA</td>\n",
       "      <td>-31.925058</td>\n",
       "      <td>115.932127</td>\n",
       "      <td>2</td>\n",
       "      <td>unit</td>\n",
       "      <td>WA2866</td>\n",
       "      <td>WA314</td>\n",
       "      <td>4</td>\n",
       "      <td>10</td>\n",
       "      <td>2018</td>\n",
       "    </tr>\n",
       "    <tr>\n",
       "      <th>54846</th>\n",
       "      <td>2018-10-05</td>\n",
       "      <td>405000.0</td>\n",
       "      <td>Morley</td>\n",
       "      <td>Perth</td>\n",
       "      <td>WA</td>\n",
       "      <td>-31.882650</td>\n",
       "      <td>115.894454</td>\n",
       "      <td>3</td>\n",
       "      <td>unit</td>\n",
       "      <td>WA2870</td>\n",
       "      <td>WA314</td>\n",
       "      <td>4</td>\n",
       "      <td>10</td>\n",
       "      <td>2018</td>\n",
       "    </tr>\n",
       "    <tr>\n",
       "      <th>54847</th>\n",
       "      <td>2018-11-20</td>\n",
       "      <td>NaN</td>\n",
       "      <td>Morley</td>\n",
       "      <td>Perth</td>\n",
       "      <td>WA</td>\n",
       "      <td>-31.890418</td>\n",
       "      <td>115.900652</td>\n",
       "      <td>2</td>\n",
       "      <td>unit</td>\n",
       "      <td>WA2870</td>\n",
       "      <td>WA314</td>\n",
       "      <td>4</td>\n",
       "      <td>11</td>\n",
       "      <td>2018</td>\n",
       "    </tr>\n",
       "    <tr>\n",
       "      <th>...</th>\n",
       "      <td>...</td>\n",
       "      <td>...</td>\n",
       "      <td>...</td>\n",
       "      <td>...</td>\n",
       "      <td>...</td>\n",
       "      <td>...</td>\n",
       "      <td>...</td>\n",
       "      <td>...</td>\n",
       "      <td>...</td>\n",
       "      <td>...</td>\n",
       "      <td>...</td>\n",
       "      <td>...</td>\n",
       "      <td>...</td>\n",
       "      <td>...</td>\n",
       "    </tr>\n",
       "    <tr>\n",
       "      <th>313690</th>\n",
       "      <td>2018-10-04</td>\n",
       "      <td>NaN</td>\n",
       "      <td>Mosman Park</td>\n",
       "      <td>Perth</td>\n",
       "      <td>WA</td>\n",
       "      <td>-32.004645</td>\n",
       "      <td>115.761122</td>\n",
       "      <td>3</td>\n",
       "      <td>townhouse</td>\n",
       "      <td>WA3100</td>\n",
       "      <td>WA375</td>\n",
       "      <td>4</td>\n",
       "      <td>10</td>\n",
       "      <td>2018</td>\n",
       "    </tr>\n",
       "    <tr>\n",
       "      <th>313701</th>\n",
       "      <td>2018-09-24</td>\n",
       "      <td>463500.0</td>\n",
       "      <td>East Victoria Park</td>\n",
       "      <td>Perth</td>\n",
       "      <td>WA</td>\n",
       "      <td>-31.980826</td>\n",
       "      <td>115.902409</td>\n",
       "      <td>3</td>\n",
       "      <td>townhouse</td>\n",
       "      <td>WA3143</td>\n",
       "      <td>WA316</td>\n",
       "      <td>3</td>\n",
       "      <td>9</td>\n",
       "      <td>2018</td>\n",
       "    </tr>\n",
       "    <tr>\n",
       "      <th>313708</th>\n",
       "      <td>2018-09-25</td>\n",
       "      <td>400000.0</td>\n",
       "      <td>Victoria Park</td>\n",
       "      <td>Perth</td>\n",
       "      <td>WA</td>\n",
       "      <td>-31.975596</td>\n",
       "      <td>115.892134</td>\n",
       "      <td>3</td>\n",
       "      <td>townhouse</td>\n",
       "      <td>WA3148</td>\n",
       "      <td>WA316</td>\n",
       "      <td>3</td>\n",
       "      <td>9</td>\n",
       "      <td>2018</td>\n",
       "    </tr>\n",
       "    <tr>\n",
       "      <th>313709</th>\n",
       "      <td>2018-10-29</td>\n",
       "      <td>620000.0</td>\n",
       "      <td>Victoria Park</td>\n",
       "      <td>Perth</td>\n",
       "      <td>WA</td>\n",
       "      <td>-31.971405</td>\n",
       "      <td>115.886967</td>\n",
       "      <td>3</td>\n",
       "      <td>townhouse</td>\n",
       "      <td>WA3148</td>\n",
       "      <td>WA316</td>\n",
       "      <td>4</td>\n",
       "      <td>10</td>\n",
       "      <td>2018</td>\n",
       "    </tr>\n",
       "    <tr>\n",
       "      <th>313710</th>\n",
       "      <td>2018-12-31</td>\n",
       "      <td>NaN</td>\n",
       "      <td>Victoria Park</td>\n",
       "      <td>Perth</td>\n",
       "      <td>WA</td>\n",
       "      <td>-31.983961</td>\n",
       "      <td>115.897368</td>\n",
       "      <td>3</td>\n",
       "      <td>townhouse</td>\n",
       "      <td>WA3148</td>\n",
       "      <td>WA316</td>\n",
       "      <td>4</td>\n",
       "      <td>12</td>\n",
       "      <td>2018</td>\n",
       "    </tr>\n",
       "  </tbody>\n",
       "</table>\n",
       "<p>6997 rows × 14 columns</p>\n",
       "</div>"
      ],
      "text/plain": [
       "        date_sold     price              suburb city_name state        lat  \\\n",
       "54795  2018-10-08  169000.0            Armadale     Perth    WA -32.147623   \n",
       "54796  2018-12-20  219000.0            Armadale     Perth    WA -32.154939   \n",
       "54829  2018-10-23  144500.0           Bayswater     Perth    WA -31.925058   \n",
       "54846  2018-10-05  405000.0              Morley     Perth    WA -31.882650   \n",
       "54847  2018-11-20       NaN              Morley     Perth    WA -31.890418   \n",
       "...           ...       ...                 ...       ...   ...        ...   \n",
       "313690 2018-10-04       NaN         Mosman Park     Perth    WA -32.004645   \n",
       "313701 2018-09-24  463500.0  East Victoria Park     Perth    WA -31.980826   \n",
       "313708 2018-09-25  400000.0       Victoria Park     Perth    WA -31.975596   \n",
       "313709 2018-10-29  620000.0       Victoria Park     Perth    WA -31.971405   \n",
       "313710 2018-12-31       NaN       Victoria Park     Perth    WA -31.983961   \n",
       "\n",
       "               lon  bedrooms property_type loc_pid lga_pid  quarter  month  \\\n",
       "54795   116.014992         2          unit  WA3220   WA321        4     10   \n",
       "54796   116.010104         3          unit  WA3220   WA321        4     12   \n",
       "54829   115.932127         2          unit  WA2866   WA314        4     10   \n",
       "54846   115.894454         3          unit  WA2870   WA314        4     10   \n",
       "54847   115.900652         2          unit  WA2870   WA314        4     11   \n",
       "...            ...       ...           ...     ...     ...      ...    ...   \n",
       "313690  115.761122         3     townhouse  WA3100   WA375        4     10   \n",
       "313701  115.902409         3     townhouse  WA3143   WA316        3      9   \n",
       "313708  115.892134         3     townhouse  WA3148   WA316        3      9   \n",
       "313709  115.886967         3     townhouse  WA3148   WA316        4     10   \n",
       "313710  115.897368         3     townhouse  WA3148   WA316        4     12   \n",
       "\n",
       "        year  \n",
       "54795   2018  \n",
       "54796   2018  \n",
       "54829   2018  \n",
       "54846   2018  \n",
       "54847   2018  \n",
       "...      ...  \n",
       "313690  2018  \n",
       "313701  2018  \n",
       "313708  2018  \n",
       "313709  2018  \n",
       "313710  2018  \n",
       "\n",
       "[6997 rows x 14 columns]"
      ]
     },
     "execution_count": 18,
     "metadata": {},
     "output_type": "execute_result"
    }
   ],
   "source": [
    "wa_realestate_2018df = wa_realestate_df.loc[wa_realestate_df['year'] == 2018] \n",
    "wa_realestate_2018df"
   ]
  },
  {
   "cell_type": "code",
   "execution_count": 19,
   "metadata": {
    "ExecuteTime": {
     "end_time": "2020-10-22T10:01:50.585872Z",
     "start_time": "2020-10-22T10:01:50.566283Z"
    }
   },
   "outputs": [
    {
     "data": {
      "text/html": [
       "<div>\n",
       "<style scoped>\n",
       "    .dataframe tbody tr th:only-of-type {\n",
       "        vertical-align: middle;\n",
       "    }\n",
       "\n",
       "    .dataframe tbody tr th {\n",
       "        vertical-align: top;\n",
       "    }\n",
       "\n",
       "    .dataframe thead th {\n",
       "        text-align: right;\n",
       "    }\n",
       "</style>\n",
       "<table border=\"1\" class=\"dataframe\">\n",
       "  <thead>\n",
       "    <tr style=\"text-align: right;\">\n",
       "      <th></th>\n",
       "      <th>date_sold</th>\n",
       "      <th>price</th>\n",
       "      <th>suburb</th>\n",
       "      <th>city_name</th>\n",
       "      <th>state</th>\n",
       "      <th>lat</th>\n",
       "      <th>lon</th>\n",
       "      <th>bedrooms</th>\n",
       "      <th>property_type</th>\n",
       "      <th>loc_pid</th>\n",
       "      <th>lga_pid</th>\n",
       "      <th>quarter</th>\n",
       "      <th>month</th>\n",
       "      <th>year</th>\n",
       "    </tr>\n",
       "  </thead>\n",
       "  <tbody>\n",
       "    <tr>\n",
       "      <th>54789</th>\n",
       "      <td>2019-02-06</td>\n",
       "      <td>120000.0</td>\n",
       "      <td>Kelmscott</td>\n",
       "      <td>Perth</td>\n",
       "      <td>WA</td>\n",
       "      <td>-32.118235</td>\n",
       "      <td>116.018271</td>\n",
       "      <td>3</td>\n",
       "      <td>unit</td>\n",
       "      <td>WA2915</td>\n",
       "      <td>WA321</td>\n",
       "      <td>1</td>\n",
       "      <td>2</td>\n",
       "      <td>2019</td>\n",
       "    </tr>\n",
       "    <tr>\n",
       "      <th>54790</th>\n",
       "      <td>2019-05-24</td>\n",
       "      <td>NaN</td>\n",
       "      <td>Kelmscott</td>\n",
       "      <td>Perth</td>\n",
       "      <td>WA</td>\n",
       "      <td>-32.117147</td>\n",
       "      <td>116.011979</td>\n",
       "      <td>3</td>\n",
       "      <td>unit</td>\n",
       "      <td>WA2915</td>\n",
       "      <td>WA321</td>\n",
       "      <td>2</td>\n",
       "      <td>5</td>\n",
       "      <td>2019</td>\n",
       "    </tr>\n",
       "    <tr>\n",
       "      <th>54793</th>\n",
       "      <td>2019-04-22</td>\n",
       "      <td>NaN</td>\n",
       "      <td>Piara Waters</td>\n",
       "      <td>Perth</td>\n",
       "      <td>WA</td>\n",
       "      <td>-32.137776</td>\n",
       "      <td>115.928161</td>\n",
       "      <td>3</td>\n",
       "      <td>unit</td>\n",
       "      <td>WA3112</td>\n",
       "      <td>WA321</td>\n",
       "      <td>2</td>\n",
       "      <td>4</td>\n",
       "      <td>2019</td>\n",
       "    </tr>\n",
       "    <tr>\n",
       "      <th>54794</th>\n",
       "      <td>2019-11-07</td>\n",
       "      <td>265000.0</td>\n",
       "      <td>Piara Waters</td>\n",
       "      <td>Perth</td>\n",
       "      <td>WA</td>\n",
       "      <td>-32.133040</td>\n",
       "      <td>115.914919</td>\n",
       "      <td>2</td>\n",
       "      <td>unit</td>\n",
       "      <td>WA3112</td>\n",
       "      <td>WA321</td>\n",
       "      <td>4</td>\n",
       "      <td>11</td>\n",
       "      <td>2019</td>\n",
       "    </tr>\n",
       "    <tr>\n",
       "      <th>54797</th>\n",
       "      <td>2019-01-25</td>\n",
       "      <td>189000.0</td>\n",
       "      <td>Armadale</td>\n",
       "      <td>Perth</td>\n",
       "      <td>WA</td>\n",
       "      <td>-32.149086</td>\n",
       "      <td>116.009915</td>\n",
       "      <td>3</td>\n",
       "      <td>unit</td>\n",
       "      <td>WA3220</td>\n",
       "      <td>WA321</td>\n",
       "      <td>1</td>\n",
       "      <td>1</td>\n",
       "      <td>2019</td>\n",
       "    </tr>\n",
       "    <tr>\n",
       "      <th>...</th>\n",
       "      <td>...</td>\n",
       "      <td>...</td>\n",
       "      <td>...</td>\n",
       "      <td>...</td>\n",
       "      <td>...</td>\n",
       "      <td>...</td>\n",
       "      <td>...</td>\n",
       "      <td>...</td>\n",
       "      <td>...</td>\n",
       "      <td>...</td>\n",
       "      <td>...</td>\n",
       "      <td>...</td>\n",
       "      <td>...</td>\n",
       "      <td>...</td>\n",
       "    </tr>\n",
       "    <tr>\n",
       "      <th>313739</th>\n",
       "      <td>2019-10-25</td>\n",
       "      <td>NaN</td>\n",
       "      <td>Burswood</td>\n",
       "      <td>Perth</td>\n",
       "      <td>WA</td>\n",
       "      <td>-31.955751</td>\n",
       "      <td>115.896459</td>\n",
       "      <td>3</td>\n",
       "      <td>townhouse</td>\n",
       "      <td>WA3151</td>\n",
       "      <td>WA316</td>\n",
       "      <td>4</td>\n",
       "      <td>10</td>\n",
       "      <td>2019</td>\n",
       "    </tr>\n",
       "    <tr>\n",
       "      <th>313740</th>\n",
       "      <td>2019-12-05</td>\n",
       "      <td>NaN</td>\n",
       "      <td>Burswood</td>\n",
       "      <td>Perth</td>\n",
       "      <td>WA</td>\n",
       "      <td>-31.957506</td>\n",
       "      <td>115.896996</td>\n",
       "      <td>3</td>\n",
       "      <td>townhouse</td>\n",
       "      <td>WA3151</td>\n",
       "      <td>WA316</td>\n",
       "      <td>4</td>\n",
       "      <td>12</td>\n",
       "      <td>2019</td>\n",
       "    </tr>\n",
       "    <tr>\n",
       "      <th>313745</th>\n",
       "      <td>2019-04-20</td>\n",
       "      <td>NaN</td>\n",
       "      <td>Lathlain</td>\n",
       "      <td>Perth</td>\n",
       "      <td>WA</td>\n",
       "      <td>-31.970371</td>\n",
       "      <td>115.903924</td>\n",
       "      <td>3</td>\n",
       "      <td>townhouse</td>\n",
       "      <td>WA3334</td>\n",
       "      <td>WA316</td>\n",
       "      <td>2</td>\n",
       "      <td>4</td>\n",
       "      <td>2019</td>\n",
       "    </tr>\n",
       "    <tr>\n",
       "      <th>313746</th>\n",
       "      <td>2019-07-19</td>\n",
       "      <td>NaN</td>\n",
       "      <td>Lathlain</td>\n",
       "      <td>Perth</td>\n",
       "      <td>WA</td>\n",
       "      <td>-31.974653</td>\n",
       "      <td>115.906999</td>\n",
       "      <td>3</td>\n",
       "      <td>townhouse</td>\n",
       "      <td>WA3334</td>\n",
       "      <td>WA316</td>\n",
       "      <td>3</td>\n",
       "      <td>7</td>\n",
       "      <td>2019</td>\n",
       "    </tr>\n",
       "    <tr>\n",
       "      <th>313747</th>\n",
       "      <td>2019-08-22</td>\n",
       "      <td>NaN</td>\n",
       "      <td>Lathlain</td>\n",
       "      <td>Perth</td>\n",
       "      <td>WA</td>\n",
       "      <td>-31.974091</td>\n",
       "      <td>115.907209</td>\n",
       "      <td>3</td>\n",
       "      <td>townhouse</td>\n",
       "      <td>WA3334</td>\n",
       "      <td>WA316</td>\n",
       "      <td>3</td>\n",
       "      <td>8</td>\n",
       "      <td>2019</td>\n",
       "    </tr>\n",
       "  </tbody>\n",
       "</table>\n",
       "<p>22118 rows × 14 columns</p>\n",
       "</div>"
      ],
      "text/plain": [
       "        date_sold     price        suburb city_name state        lat  \\\n",
       "54789  2019-02-06  120000.0     Kelmscott     Perth    WA -32.118235   \n",
       "54790  2019-05-24       NaN     Kelmscott     Perth    WA -32.117147   \n",
       "54793  2019-04-22       NaN  Piara Waters     Perth    WA -32.137776   \n",
       "54794  2019-11-07  265000.0  Piara Waters     Perth    WA -32.133040   \n",
       "54797  2019-01-25  189000.0      Armadale     Perth    WA -32.149086   \n",
       "...           ...       ...           ...       ...   ...        ...   \n",
       "313739 2019-10-25       NaN      Burswood     Perth    WA -31.955751   \n",
       "313740 2019-12-05       NaN      Burswood     Perth    WA -31.957506   \n",
       "313745 2019-04-20       NaN      Lathlain     Perth    WA -31.970371   \n",
       "313746 2019-07-19       NaN      Lathlain     Perth    WA -31.974653   \n",
       "313747 2019-08-22       NaN      Lathlain     Perth    WA -31.974091   \n",
       "\n",
       "               lon  bedrooms property_type loc_pid lga_pid  quarter  month  \\\n",
       "54789   116.018271         3          unit  WA2915   WA321        1      2   \n",
       "54790   116.011979         3          unit  WA2915   WA321        2      5   \n",
       "54793   115.928161         3          unit  WA3112   WA321        2      4   \n",
       "54794   115.914919         2          unit  WA3112   WA321        4     11   \n",
       "54797   116.009915         3          unit  WA3220   WA321        1      1   \n",
       "...            ...       ...           ...     ...     ...      ...    ...   \n",
       "313739  115.896459         3     townhouse  WA3151   WA316        4     10   \n",
       "313740  115.896996         3     townhouse  WA3151   WA316        4     12   \n",
       "313745  115.903924         3     townhouse  WA3334   WA316        2      4   \n",
       "313746  115.906999         3     townhouse  WA3334   WA316        3      7   \n",
       "313747  115.907209         3     townhouse  WA3334   WA316        3      8   \n",
       "\n",
       "        year  \n",
       "54789   2019  \n",
       "54790   2019  \n",
       "54793   2019  \n",
       "54794   2019  \n",
       "54797   2019  \n",
       "...      ...  \n",
       "313739  2019  \n",
       "313740  2019  \n",
       "313745  2019  \n",
       "313746  2019  \n",
       "313747  2019  \n",
       "\n",
       "[22118 rows x 14 columns]"
      ]
     },
     "execution_count": 19,
     "metadata": {},
     "output_type": "execute_result"
    }
   ],
   "source": [
    "wa_realestate_2019df = wa_realestate_df.loc[wa_realestate_df['year'] == 2019] \n",
    "wa_realestate_2019df"
   ]
  },
  {
   "cell_type": "code",
   "execution_count": 20,
   "metadata": {
    "ExecuteTime": {
     "end_time": "2020-10-22T10:01:50.606616Z",
     "start_time": "2020-10-22T10:01:50.587270Z"
    }
   },
   "outputs": [
    {
     "data": {
      "text/html": [
       "<div>\n",
       "<style scoped>\n",
       "    .dataframe tbody tr th:only-of-type {\n",
       "        vertical-align: middle;\n",
       "    }\n",
       "\n",
       "    .dataframe tbody tr th {\n",
       "        vertical-align: top;\n",
       "    }\n",
       "\n",
       "    .dataframe thead th {\n",
       "        text-align: right;\n",
       "    }\n",
       "</style>\n",
       "<table border=\"1\" class=\"dataframe\">\n",
       "  <thead>\n",
       "    <tr style=\"text-align: right;\">\n",
       "      <th></th>\n",
       "      <th>date_sold</th>\n",
       "      <th>price</th>\n",
       "      <th>suburb</th>\n",
       "      <th>city_name</th>\n",
       "      <th>state</th>\n",
       "      <th>lat</th>\n",
       "      <th>lon</th>\n",
       "      <th>bedrooms</th>\n",
       "      <th>property_type</th>\n",
       "      <th>loc_pid</th>\n",
       "      <th>lga_pid</th>\n",
       "      <th>quarter</th>\n",
       "      <th>month</th>\n",
       "      <th>year</th>\n",
       "    </tr>\n",
       "  </thead>\n",
       "  <tbody>\n",
       "    <tr>\n",
       "      <th>54791</th>\n",
       "      <td>2020-02-27</td>\n",
       "      <td>329000.0</td>\n",
       "      <td>Kelmscott</td>\n",
       "      <td>Perth</td>\n",
       "      <td>WA</td>\n",
       "      <td>-32.120796</td>\n",
       "      <td>116.019722</td>\n",
       "      <td>3</td>\n",
       "      <td>unit</td>\n",
       "      <td>WA2915</td>\n",
       "      <td>WA321</td>\n",
       "      <td>1</td>\n",
       "      <td>2</td>\n",
       "      <td>2020</td>\n",
       "    </tr>\n",
       "    <tr>\n",
       "      <th>54792</th>\n",
       "      <td>2020-06-23</td>\n",
       "      <td>159000.0</td>\n",
       "      <td>Kelmscott</td>\n",
       "      <td>Perth</td>\n",
       "      <td>WA</td>\n",
       "      <td>-32.110688</td>\n",
       "      <td>116.014602</td>\n",
       "      <td>2</td>\n",
       "      <td>unit</td>\n",
       "      <td>WA2915</td>\n",
       "      <td>WA321</td>\n",
       "      <td>2</td>\n",
       "      <td>6</td>\n",
       "      <td>2020</td>\n",
       "    </tr>\n",
       "    <tr>\n",
       "      <th>54816</th>\n",
       "      <td>2020-01-30</td>\n",
       "      <td>229000.0</td>\n",
       "      <td>Armadale</td>\n",
       "      <td>Perth</td>\n",
       "      <td>WA</td>\n",
       "      <td>-32.136001</td>\n",
       "      <td>116.016980</td>\n",
       "      <td>3</td>\n",
       "      <td>unit</td>\n",
       "      <td>WA3220</td>\n",
       "      <td>WA321</td>\n",
       "      <td>1</td>\n",
       "      <td>1</td>\n",
       "      <td>2020</td>\n",
       "    </tr>\n",
       "    <tr>\n",
       "      <th>54817</th>\n",
       "      <td>2020-02-03</td>\n",
       "      <td>130000.0</td>\n",
       "      <td>Armadale</td>\n",
       "      <td>Perth</td>\n",
       "      <td>WA</td>\n",
       "      <td>-32.151480</td>\n",
       "      <td>116.006470</td>\n",
       "      <td>1</td>\n",
       "      <td>unit</td>\n",
       "      <td>WA3220</td>\n",
       "      <td>WA321</td>\n",
       "      <td>1</td>\n",
       "      <td>2</td>\n",
       "      <td>2020</td>\n",
       "    </tr>\n",
       "    <tr>\n",
       "      <th>54818</th>\n",
       "      <td>2020-02-04</td>\n",
       "      <td>113000.0</td>\n",
       "      <td>Armadale</td>\n",
       "      <td>Perth</td>\n",
       "      <td>WA</td>\n",
       "      <td>-32.157587</td>\n",
       "      <td>116.009623</td>\n",
       "      <td>2</td>\n",
       "      <td>unit</td>\n",
       "      <td>WA3220</td>\n",
       "      <td>WA321</td>\n",
       "      <td>1</td>\n",
       "      <td>2</td>\n",
       "      <td>2020</td>\n",
       "    </tr>\n",
       "    <tr>\n",
       "      <th>...</th>\n",
       "      <td>...</td>\n",
       "      <td>...</td>\n",
       "      <td>...</td>\n",
       "      <td>...</td>\n",
       "      <td>...</td>\n",
       "      <td>...</td>\n",
       "      <td>...</td>\n",
       "      <td>...</td>\n",
       "      <td>...</td>\n",
       "      <td>...</td>\n",
       "      <td>...</td>\n",
       "      <td>...</td>\n",
       "      <td>...</td>\n",
       "      <td>...</td>\n",
       "    </tr>\n",
       "    <tr>\n",
       "      <th>313735</th>\n",
       "      <td>2020-04-24</td>\n",
       "      <td>NaN</td>\n",
       "      <td>Carlisle</td>\n",
       "      <td>Perth</td>\n",
       "      <td>WA</td>\n",
       "      <td>-31.979880</td>\n",
       "      <td>115.919840</td>\n",
       "      <td>3</td>\n",
       "      <td>townhouse</td>\n",
       "      <td>WA3150</td>\n",
       "      <td>WA316</td>\n",
       "      <td>2</td>\n",
       "      <td>4</td>\n",
       "      <td>2020</td>\n",
       "    </tr>\n",
       "    <tr>\n",
       "      <th>313741</th>\n",
       "      <td>2020-02-05</td>\n",
       "      <td>510000.0</td>\n",
       "      <td>Burswood</td>\n",
       "      <td>Perth</td>\n",
       "      <td>WA</td>\n",
       "      <td>-31.967836</td>\n",
       "      <td>115.896362</td>\n",
       "      <td>3</td>\n",
       "      <td>townhouse</td>\n",
       "      <td>WA3151</td>\n",
       "      <td>WA316</td>\n",
       "      <td>1</td>\n",
       "      <td>2</td>\n",
       "      <td>2020</td>\n",
       "    </tr>\n",
       "    <tr>\n",
       "      <th>313742</th>\n",
       "      <td>2020-02-19</td>\n",
       "      <td>526000.0</td>\n",
       "      <td>Burswood</td>\n",
       "      <td>Perth</td>\n",
       "      <td>WA</td>\n",
       "      <td>-31.971420</td>\n",
       "      <td>115.897840</td>\n",
       "      <td>3</td>\n",
       "      <td>townhouse</td>\n",
       "      <td>WA3151</td>\n",
       "      <td>WA316</td>\n",
       "      <td>1</td>\n",
       "      <td>2</td>\n",
       "      <td>2020</td>\n",
       "    </tr>\n",
       "    <tr>\n",
       "      <th>313743</th>\n",
       "      <td>2020-03-21</td>\n",
       "      <td>870000.0</td>\n",
       "      <td>Burswood</td>\n",
       "      <td>Perth</td>\n",
       "      <td>WA</td>\n",
       "      <td>-31.957961</td>\n",
       "      <td>115.895464</td>\n",
       "      <td>4</td>\n",
       "      <td>townhouse</td>\n",
       "      <td>WA3151</td>\n",
       "      <td>WA316</td>\n",
       "      <td>1</td>\n",
       "      <td>3</td>\n",
       "      <td>2020</td>\n",
       "    </tr>\n",
       "    <tr>\n",
       "      <th>313744</th>\n",
       "      <td>2020-05-11</td>\n",
       "      <td>NaN</td>\n",
       "      <td>Burswood</td>\n",
       "      <td>Perth</td>\n",
       "      <td>WA</td>\n",
       "      <td>-31.969290</td>\n",
       "      <td>115.896280</td>\n",
       "      <td>3</td>\n",
       "      <td>townhouse</td>\n",
       "      <td>WA3151</td>\n",
       "      <td>WA316</td>\n",
       "      <td>2</td>\n",
       "      <td>5</td>\n",
       "      <td>2020</td>\n",
       "    </tr>\n",
       "  </tbody>\n",
       "</table>\n",
       "<p>10546 rows × 14 columns</p>\n",
       "</div>"
      ],
      "text/plain": [
       "        date_sold     price     suburb city_name state        lat         lon  \\\n",
       "54791  2020-02-27  329000.0  Kelmscott     Perth    WA -32.120796  116.019722   \n",
       "54792  2020-06-23  159000.0  Kelmscott     Perth    WA -32.110688  116.014602   \n",
       "54816  2020-01-30  229000.0   Armadale     Perth    WA -32.136001  116.016980   \n",
       "54817  2020-02-03  130000.0   Armadale     Perth    WA -32.151480  116.006470   \n",
       "54818  2020-02-04  113000.0   Armadale     Perth    WA -32.157587  116.009623   \n",
       "...           ...       ...        ...       ...   ...        ...         ...   \n",
       "313735 2020-04-24       NaN   Carlisle     Perth    WA -31.979880  115.919840   \n",
       "313741 2020-02-05  510000.0   Burswood     Perth    WA -31.967836  115.896362   \n",
       "313742 2020-02-19  526000.0   Burswood     Perth    WA -31.971420  115.897840   \n",
       "313743 2020-03-21  870000.0   Burswood     Perth    WA -31.957961  115.895464   \n",
       "313744 2020-05-11       NaN   Burswood     Perth    WA -31.969290  115.896280   \n",
       "\n",
       "        bedrooms property_type loc_pid lga_pid  quarter  month  year  \n",
       "54791          3          unit  WA2915   WA321        1      2  2020  \n",
       "54792          2          unit  WA2915   WA321        2      6  2020  \n",
       "54816          3          unit  WA3220   WA321        1      1  2020  \n",
       "54817          1          unit  WA3220   WA321        1      2  2020  \n",
       "54818          2          unit  WA3220   WA321        1      2  2020  \n",
       "...          ...           ...     ...     ...      ...    ...   ...  \n",
       "313735         3     townhouse  WA3150   WA316        2      4  2020  \n",
       "313741         3     townhouse  WA3151   WA316        1      2  2020  \n",
       "313742         3     townhouse  WA3151   WA316        1      2  2020  \n",
       "313743         4     townhouse  WA3151   WA316        1      3  2020  \n",
       "313744         3     townhouse  WA3151   WA316        2      5  2020  \n",
       "\n",
       "[10546 rows x 14 columns]"
      ]
     },
     "execution_count": 20,
     "metadata": {},
     "output_type": "execute_result"
    }
   ],
   "source": [
    "wa_realestate_2020df = wa_realestate_df.loc[wa_realestate_df['year'] == 2020] \n",
    "wa_realestate_2020df"
   ]
  },
  {
   "cell_type": "markdown",
   "metadata": {},
   "source": [
    "# Break Dataframe by Total Sales Per Quarter"
   ]
  },
  {
   "cell_type": "code",
   "execution_count": 21,
   "metadata": {
    "ExecuteTime": {
     "end_time": "2020-10-22T10:01:50.617703Z",
     "start_time": "2020-10-22T10:01:50.608294Z"
    }
   },
   "outputs": [
    {
     "data": {
      "text/html": [
       "<div>\n",
       "<style scoped>\n",
       "    .dataframe tbody tr th:only-of-type {\n",
       "        vertical-align: middle;\n",
       "    }\n",
       "\n",
       "    .dataframe tbody tr th {\n",
       "        vertical-align: top;\n",
       "    }\n",
       "\n",
       "    .dataframe thead th {\n",
       "        text-align: right;\n",
       "    }\n",
       "</style>\n",
       "<table border=\"1\" class=\"dataframe\">\n",
       "  <thead>\n",
       "    <tr style=\"text-align: right;\">\n",
       "      <th></th>\n",
       "      <th>Year</th>\n",
       "      <th>Quarter</th>\n",
       "      <th>Sales</th>\n",
       "    </tr>\n",
       "  </thead>\n",
       "  <tbody>\n",
       "    <tr>\n",
       "      <th>1</th>\n",
       "      <td>2018</td>\n",
       "      <td>4</td>\n",
       "      <td>5365</td>\n",
       "    </tr>\n",
       "    <tr>\n",
       "      <th>2</th>\n",
       "      <td>2019</td>\n",
       "      <td>1</td>\n",
       "      <td>5016</td>\n",
       "    </tr>\n",
       "    <tr>\n",
       "      <th>3</th>\n",
       "      <td>2019</td>\n",
       "      <td>2</td>\n",
       "      <td>5317</td>\n",
       "    </tr>\n",
       "    <tr>\n",
       "      <th>4</th>\n",
       "      <td>2019</td>\n",
       "      <td>3</td>\n",
       "      <td>5609</td>\n",
       "    </tr>\n",
       "    <tr>\n",
       "      <th>5</th>\n",
       "      <td>2019</td>\n",
       "      <td>4</td>\n",
       "      <td>6176</td>\n",
       "    </tr>\n",
       "    <tr>\n",
       "      <th>6</th>\n",
       "      <td>2020</td>\n",
       "      <td>1</td>\n",
       "      <td>5837</td>\n",
       "    </tr>\n",
       "    <tr>\n",
       "      <th>7</th>\n",
       "      <td>2020</td>\n",
       "      <td>2</td>\n",
       "      <td>4082</td>\n",
       "    </tr>\n",
       "  </tbody>\n",
       "</table>\n",
       "</div>"
      ],
      "text/plain": [
       "   Year  Quarter  Sales\n",
       "1  2018        4   5365\n",
       "2  2019        1   5016\n",
       "3  2019        2   5317\n",
       "4  2019        3   5609\n",
       "5  2019        4   6176\n",
       "6  2020        1   5837\n",
       "7  2020        2   4082"
      ]
     },
     "execution_count": 21,
     "metadata": {},
     "output_type": "execute_result"
    }
   ],
   "source": [
    "wa_realestate_qt_ct_df = wa_realestate_df.groupby(['year','quarter'])['date_sold'].count().reset_index()\n",
    "wa_realestate_qt_ct_df = wa_realestate_qt_ct_df[1:-1]\n",
    "wa_realestate_qt_ct_df.columns = [\"Year\",\"Quarter\",\"Sales\"]\n",
    "wa_realestate_qt_ct_df"
   ]
  },
  {
   "cell_type": "code",
   "execution_count": 22,
   "metadata": {
    "ExecuteTime": {
     "end_time": "2020-10-22T10:01:50.798014Z",
     "start_time": "2020-10-22T10:01:50.619025Z"
    }
   },
   "outputs": [
    {
     "data": {
      "image/png": "[encoded data removed]",
      "text/plain": [
       "<Figure size 864x720 with 1 Axes>"
      ]
     },
     "metadata": {
      "needs_background": "light"
     },
     "output_type": "display_data"
    }
   ],
   "source": [
    "#Plot Quarterly Sales Trends using a line graph\n",
    "\n",
    "qt_sales_list = wa_realestate_qt_ct_df['Sales'].to_list()\n",
    "qt_lbl_lst = [\"2018 Q4\",\"2019 Q1\",\"2019 Q2\",\"2019 Q3\",\"2019 Q4\",\"2020 Q1\",\"2020 Q2\"]\n",
    "\n",
    "plt.figure(figsize=(12,10))\n",
    "plt.plot(qt_lbl_lst, qt_sales_list, color='red')\n",
    "plt.grid(color='k', linestyle='--', linewidth=0.2)\n",
    "plt.xlabel('Quarters by Year', fontsize = 16)\n",
    "plt.ylabel('Total Sales(n)', fontsize = 16)\n",
    "plt.title('Real Estate Sales (All Property Types) by Quarter from Q4 2018 to Q2 2020', fontsize = 16)\n",
    "\n",
    "plt.show()"
   ]
  },
  {
   "cell_type": "markdown",
   "metadata": {},
   "source": [
    "# Break Dataframe by Quarter and Count by Categroy "
   ]
  },
  {
   "cell_type": "code",
   "execution_count": 23,
   "metadata": {
    "ExecuteTime": {
     "end_time": "2020-10-22T10:01:51.011799Z",
     "start_time": "2020-10-22T10:01:50.803316Z"
    }
   },
   "outputs": [
    {
     "ename": "FileNotFoundError",
     "evalue": "[Errno 2] No such file or directory: 'output/propertytype_sales_by_quarter.csv'",
     "output_type": "error",
     "traceback": [
      "\u001b[0;31m---------------------------------------------------------------------------\u001b[0m",
      "\u001b[0;31mFileNotFoundError\u001b[0m                         Traceback (most recent call last)",
      "\u001b[0;32m<ipython-input-23-af55f554091b>\u001b[0m in \u001b[0;36m<module>\u001b[0;34m\u001b[0m\n\u001b[1;32m      4\u001b[0m \u001b[0mwa_realestate_qt_type_ct_df\u001b[0m\u001b[0;34m\u001b[0m\u001b[0;34m\u001b[0m\u001b[0m\n\u001b[1;32m      5\u001b[0m \u001b[0;34m\u001b[0m\u001b[0m\n\u001b[0;32m----> 6\u001b[0;31m \u001b[0mwa_realestate_qt_type_ct_df\u001b[0m\u001b[0;34m.\u001b[0m\u001b[0mto_csv\u001b[0m\u001b[0;34m(\u001b[0m\u001b[0;34m\"output/propertytype_sales_by_quarter.csv\"\u001b[0m\u001b[0;34m,\u001b[0m \u001b[0mencoding\u001b[0m\u001b[0;34m=\u001b[0m\u001b[0;34m'utf-8'\u001b[0m\u001b[0;34m,\u001b[0m \u001b[0mindex\u001b[0m\u001b[0;34m=\u001b[0m\u001b[0;32mFalse\u001b[0m\u001b[0;34m)\u001b[0m\u001b[0;34m\u001b[0m\u001b[0;34m\u001b[0m\u001b[0m\n\u001b[0m",
      "\u001b[0;32m~/opt/anaconda3/envs/python_analysis/lib/python3.7/site-packages/pandas/core/generic.py\u001b[0m in \u001b[0;36mto_csv\u001b[0;34m(self, path_or_buf, sep, na_rep, float_format, columns, header, index, index_label, mode, encoding, compression, quoting, quotechar, line_terminator, chunksize, date_format, doublequote, escapechar, decimal, errors)\u001b[0m\n\u001b[1;32m   3165\u001b[0m             \u001b[0mdecimal\u001b[0m\u001b[0;34m=\u001b[0m\u001b[0mdecimal\u001b[0m\u001b[0;34m,\u001b[0m\u001b[0;34m\u001b[0m\u001b[0;34m\u001b[0m\u001b[0m\n\u001b[1;32m   3166\u001b[0m         )\n\u001b[0;32m-> 3167\u001b[0;31m         \u001b[0mformatter\u001b[0m\u001b[0;34m.\u001b[0m\u001b[0msave\u001b[0m\u001b[0;34m(\u001b[0m\u001b[0;34m)\u001b[0m\u001b[0;34m\u001b[0m\u001b[0;34m\u001b[0m\u001b[0m\n\u001b[0m\u001b[1;32m   3168\u001b[0m \u001b[0;34m\u001b[0m\u001b[0m\n\u001b[1;32m   3169\u001b[0m         \u001b[0;32mif\u001b[0m \u001b[0mpath_or_buf\u001b[0m \u001b[0;32mis\u001b[0m \u001b[0;32mNone\u001b[0m\u001b[0;34m:\u001b[0m\u001b[0;34m\u001b[0m\u001b[0;34m\u001b[0m\u001b[0m\n",
      "\u001b[0;32m~/opt/anaconda3/envs/python_analysis/lib/python3.7/site-packages/pandas/io/formats/csvs.py\u001b[0m in \u001b[0;36msave\u001b[0;34m(self)\u001b[0m\n\u001b[1;32m    188\u001b[0m                 \u001b[0mencoding\u001b[0m\u001b[0;34m=\u001b[0m\u001b[0mself\u001b[0m\u001b[0;34m.\u001b[0m\u001b[0mencoding\u001b[0m\u001b[0;34m,\u001b[0m\u001b[0;34m\u001b[0m\u001b[0;34m\u001b[0m\u001b[0m\n\u001b[1;32m    189\u001b[0m                 \u001b[0merrors\u001b[0m\u001b[0;34m=\u001b[0m\u001b[0mself\u001b[0m\u001b[0;34m.\u001b[0m\u001b[0merrors\u001b[0m\u001b[0;34m,\u001b[0m\u001b[0;34m\u001b[0m\u001b[0;34m\u001b[0m\u001b[0m\n\u001b[0;32m--> 190\u001b[0;31m                 \u001b[0mcompression\u001b[0m\u001b[0;34m=\u001b[0m\u001b[0mdict\u001b[0m\u001b[0;34m(\u001b[0m\u001b[0mself\u001b[0m\u001b[0;34m.\u001b[0m\u001b[0mcompression_args\u001b[0m\u001b[0;34m,\u001b[0m \u001b[0mmethod\u001b[0m\u001b[0;34m=\u001b[0m\u001b[0mself\u001b[0m\u001b[0;34m.\u001b[0m\u001b[0mcompression\u001b[0m\u001b[0;34m)\u001b[0m\u001b[0;34m,\u001b[0m\u001b[0;34m\u001b[0m\u001b[0;34m\u001b[0m\u001b[0m\n\u001b[0m\u001b[1;32m    191\u001b[0m             )\n\u001b[1;32m    192\u001b[0m             \u001b[0mclose\u001b[0m \u001b[0;34m=\u001b[0m \u001b[0;32mTrue\u001b[0m\u001b[0;34m\u001b[0m\u001b[0;34m\u001b[0m\u001b[0m\n",
      "\u001b[0;32m~/opt/anaconda3/envs/python_analysis/lib/python3.7/site-packages/pandas/io/common.py\u001b[0m in \u001b[0;36mget_handle\u001b[0;34m(path_or_buf, mode, encoding, compression, memory_map, is_text, errors)\u001b[0m\n\u001b[1;32m    491\u001b[0m         \u001b[0;32mif\u001b[0m \u001b[0mencoding\u001b[0m\u001b[0;34m:\u001b[0m\u001b[0;34m\u001b[0m\u001b[0;34m\u001b[0m\u001b[0m\n\u001b[1;32m    492\u001b[0m             \u001b[0;31m# Encoding\u001b[0m\u001b[0;34m\u001b[0m\u001b[0;34m\u001b[0m\u001b[0;34m\u001b[0m\u001b[0m\n\u001b[0;32m--> 493\u001b[0;31m             \u001b[0mf\u001b[0m \u001b[0;34m=\u001b[0m \u001b[0mopen\u001b[0m\u001b[0;34m(\u001b[0m\u001b[0mpath_or_buf\u001b[0m\u001b[0;34m,\u001b[0m \u001b[0mmode\u001b[0m\u001b[0;34m,\u001b[0m \u001b[0mencoding\u001b[0m\u001b[0;34m=\u001b[0m\u001b[0mencoding\u001b[0m\u001b[0;34m,\u001b[0m \u001b[0merrors\u001b[0m\u001b[0;34m=\u001b[0m\u001b[0merrors\u001b[0m\u001b[0;34m,\u001b[0m \u001b[0mnewline\u001b[0m\u001b[0;34m=\u001b[0m\u001b[0;34m\"\"\u001b[0m\u001b[0;34m)\u001b[0m\u001b[0;34m\u001b[0m\u001b[0;34m\u001b[0m\u001b[0m\n\u001b[0m\u001b[1;32m    494\u001b[0m         \u001b[0;32melif\u001b[0m \u001b[0mis_text\u001b[0m\u001b[0;34m:\u001b[0m\u001b[0;34m\u001b[0m\u001b[0;34m\u001b[0m\u001b[0m\n\u001b[1;32m    495\u001b[0m             \u001b[0;31m# No explicit encoding\u001b[0m\u001b[0;34m\u001b[0m\u001b[0;34m\u001b[0m\u001b[0;34m\u001b[0m\u001b[0m\n",
      "\u001b[0;31mFileNotFoundError\u001b[0m: [Errno 2] No such file or directory: 'output/propertytype_sales_by_quarter.csv'"
     ]
    }
   ],
   "source": [
    "wa_realestate_qt_type_ct_df = wa_realestate_df.groupby(['year','quarter','property_type'])['date_sold'].count().reset_index()\n",
    "wa_realestate_qt_type_ct_df = wa_realestate_qt_type_ct_df[3:-3]\n",
    "wa_realestate_qt_type_ct_df.columns = [\"Year\",\"Quarter\",\"Property\",\"Sales\"]\n",
    "wa_realestate_qt_type_ct_df\n",
    "\n",
    "wa_realestate_qt_type_ct_df.to_csv(\"output/propertytype_sales_by_quarter.csv\", encoding='utf-8', index=False)"
   ]
  },
  {
   "cell_type": "code",
   "execution_count": null,
   "metadata": {
    "ExecuteTime": {
     "end_time": "2020-10-22T10:01:51.014713Z",
     "start_time": "2020-10-22T10:01:47.718Z"
    }
   },
   "outputs": [],
   "source": [
    "#Break into 3 dataframes by type\n",
    "\n",
    "dwellings_qt = wa_realestate_qt_type_ct_df[wa_realestate_qt_type_ct_df.Property == 'house']\n",
    "townhouses_qt = wa_realestate_qt_type_ct_df[wa_realestate_qt_type_ct_df.Property == 'townhouse']\n",
    "apartments_qt = wa_realestate_qt_type_ct_df[wa_realestate_qt_type_ct_df.Property == 'unit']\n"
   ]
  },
  {
   "cell_type": "code",
   "execution_count": null,
   "metadata": {
    "ExecuteTime": {
     "end_time": "2020-10-22T10:01:51.015691Z",
     "start_time": "2020-10-22T10:01:47.719Z"
    }
   },
   "outputs": [],
   "source": [
    "#Plot Line Graphs by Category\n",
    "\n",
    "plt.figure(figsize=(12,10))\n",
    "plt.plot(qt_lbl_lst, dwellings_qt['Sales'], label='Dwellings', color='green')\n",
    "plt.plot(qt_lbl_lst, townhouses_qt['Sales'], label='Town Houses', color='purple')\n",
    "plt.plot(qt_lbl_lst, apartments_qt['Sales'], label='Apartments', color='orange')\n",
    "plt.xlabel('Quarters by Year', fontsize = 16)\n",
    "plt.ylabel('Total Sales(n)', fontsize = 16)\n",
    "plt.grid(color='k', linestyle='--', linewidth=0.2)\n",
    "plt.legend()\n",
    "plt.title('Real Estate Sales by Quarter from Q4 2018 to Q2 2020', fontsize = 16)"
   ]
  },
  {
   "cell_type": "markdown",
   "metadata": {},
   "source": [
    "# Break Dataframe down by sales per month"
   ]
  },
  {
   "cell_type": "code",
   "execution_count": null,
   "metadata": {
    "ExecuteTime": {
     "end_time": "2020-10-22T10:01:51.016726Z",
     "start_time": "2020-10-22T10:01:47.721Z"
    }
   },
   "outputs": [],
   "source": [
    "wa_realestate_mn_ct_df = wa_realestate_df.groupby(['year','month'])['date_sold'].count().reset_index()\n",
    "wa_realestate_mn_ct_df = wa_realestate_mn_ct_df[1:-1]\n",
    "wa_realestate_mn_ct_df.columns = [\"Year\",\"Month\",\"Sales\"]\n",
    "wa_realestate_mn_ct_df"
   ]
  },
  {
   "cell_type": "code",
   "execution_count": null,
   "metadata": {
    "ExecuteTime": {
     "end_time": "2020-10-22T10:01:51.017764Z",
     "start_time": "2020-10-22T10:01:47.722Z"
    }
   },
   "outputs": [],
   "source": [
    "plt.figure(figsize=(12,10))\n",
    "\n",
    "mth_lbl_lst = ['Oct 18','Nov 18','Dec 18','Jan 19','Feb 19','Mar 19','Apr 19','May 19','Jun 19','Jul 19','Aug 19','Sep 19','Oct 19','Nov 19','Dec 19','Jan 20','Feb 20','Mar 20','Apr 20','May 20','Jun 20']\n",
    "\n",
    "plt.plot(mth_lbl_lst, wa_realestate_mn_ct_df['Sales'], color='red')\n",
    "plt.grid(color='k', linestyle='--', linewidth=0.2)\n",
    "plt.xlabel('Months by Year', fontsize = 16)\n",
    "plt.ylabel('Total Sales(n)', fontsize = 16)\n",
    "plt.xticks(rotation=90)\n",
    "plt.title('Real Estate Sales by Month from October 2018 to June 2020', fontsize = 16)\n",
    "\n",
    "plt.show()"
   ]
  },
  {
   "cell_type": "code",
   "execution_count": null,
   "metadata": {
    "ExecuteTime": {
     "end_time": "2020-10-20T12:31:16.088327Z",
     "start_time": "2020-10-20T12:31:08.958Z"
    }
   },
   "outputs": [],
   "source": []
  },
  {
   "cell_type": "markdown",
   "metadata": {},
   "source": [
    "# Break Dataframe down into sales per category per month"
   ]
  },
  {
   "cell_type": "code",
   "execution_count": null,
   "metadata": {
    "ExecuteTime": {
     "end_time": "2020-10-22T10:01:51.018697Z",
     "start_time": "2020-10-22T10:01:47.724Z"
    }
   },
   "outputs": [],
   "source": [
    "#Create and organize a monthly count dataframe with property types\n",
    "\n",
    "wa_realestate_mn_ct_type_df = wa_realestate_df.groupby(['year','month','property_type'])['date_sold'].count().reset_index()\n",
    "wa_realestate_mn_ct_type_df = wa_realestate_mn_ct_type_df[3:-3]\n",
    "wa_realestate_mn_ct_type_df.columns = [\"Year\",\"Month\",\"Property\",\"Sales\"]\n",
    "wa_realestate_mn_ct_type_df"
   ]
  },
  {
   "cell_type": "code",
   "execution_count": null,
   "metadata": {
    "ExecuteTime": {
     "end_time": "2020-10-22T10:01:51.019662Z",
     "start_time": "2020-10-22T10:01:47.725Z"
    }
   },
   "outputs": [],
   "source": [
    "#Create 3 Separate Data Frames for Sales Categories\n",
    "\n",
    "dwellings_mn = wa_realestate_mn_ct_type_df[wa_realestate_mn_ct_type_df.Property == 'house']\n",
    "townhouses_mn = wa_realestate_mn_ct_type_df[wa_realestate_mn_ct_type_df.Property == 'townhouse']\n",
    "apartments_mn = wa_realestate_mn_ct_type_df[wa_realestate_mn_ct_type_df.Property == 'unit']"
   ]
  },
  {
   "cell_type": "code",
   "execution_count": null,
   "metadata": {
    "ExecuteTime": {
     "end_time": "2020-10-22T10:01:51.020517Z",
     "start_time": "2020-10-22T10:01:47.726Z"
    }
   },
   "outputs": [],
   "source": [
    "#Plot Line Graphs by Category\n",
    "\n",
    "plt.figure(figsize=(12,10))\n",
    "plt.plot(mth_lbl_lst, dwellings_mn['Sales'], label='Dwellings', color='green')\n",
    "plt.plot(mth_lbl_lst, townhouses_mn['Sales'], label='Town Houses', color='purple')\n",
    "plt.plot(mth_lbl_lst, apartments_mn['Sales'], label='Apartments', color='orange')\n",
    "plt.xlabel('Months by Year', fontsize = 16)\n",
    "plt.ylabel('Total Sales(n)', fontsize = 16)\n",
    "plt.grid(color='k', linestyle='--', linewidth=0.2)\n",
    "plt.xticks(rotation=90)\n",
    "plt.legend()\n",
    "plt.title('Real Estate Sales by Month from October 2018 to June 2020', fontsize = 16)"
   ]
  },
  {
   "cell_type": "markdown",
   "metadata": {},
   "source": [
    "# Top 10 Performing Suburbs by Sales (n) Per Quarter"
   ]
  },
  {
   "cell_type": "code",
   "execution_count": null,
   "metadata": {
    "ExecuteTime": {
     "end_time": "2020-10-22T10:01:51.021427Z",
     "start_time": "2020-10-22T10:01:47.727Z"
    }
   },
   "outputs": [],
   "source": [
    "qt_lbl_lst"
   ]
  },
  {
   "cell_type": "code",
   "execution_count": null,
   "metadata": {
    "ExecuteTime": {
     "end_time": "2020-10-22T10:01:51.022264Z",
     "start_time": "2020-10-22T10:01:47.728Z"
    }
   },
   "outputs": [],
   "source": [
    "wa_realestate_df"
   ]
  },
  {
   "cell_type": "markdown",
   "metadata": {},
   "source": [
    "# Breaking Dataframe into Highest Selling Suburbs by Quarter"
   ]
  },
  {
   "cell_type": "code",
   "execution_count": null,
   "metadata": {
    "ExecuteTime": {
     "end_time": "2020-10-22T10:01:51.023337Z",
     "start_time": "2020-10-22T10:01:47.729Z"
    }
   },
   "outputs": [],
   "source": [
    "wa_realestate_qt_sb_type_df = wa_realestate_df.groupby(['year', 'quarter','suburb']).agg({'property_type':'count'}).reset_index()\n",
    "wa_realestate_qt_sb_type_df.columns = [\"Year\",\"Quarter\",\"Suburb\",\"Sales\"]\n",
    "\n",
    "wa_realestate_qt_sb_type_df.shape"
   ]
  },
  {
   "cell_type": "markdown",
   "metadata": {},
   "source": [
    "# 2018"
   ]
  },
  {
   "cell_type": "code",
   "execution_count": null,
   "metadata": {
    "ExecuteTime": {
     "end_time": "2020-10-22T10:01:51.024210Z",
     "start_time": "2020-10-22T10:01:47.730Z"
    }
   },
   "outputs": [],
   "source": [
    "wa_realestate_qt_sb_type_2018_df= wa_realestate_qt_sb_type_df.loc[wa_realestate_qt_sb_type_df['Year'] == 2018]"
   ]
  },
  {
   "cell_type": "code",
   "execution_count": null,
   "metadata": {
    "ExecuteTime": {
     "end_time": "2020-10-22T10:01:51.025189Z",
     "start_time": "2020-10-22T10:01:47.732Z"
    }
   },
   "outputs": [],
   "source": [
    "wa_realestate_qt_sb_type_2018_4_df = wa_realestate_qt_sb_type_2018_df.loc[wa_realestate_qt_sb_type_2018_df['Quarter'] == 4]\n",
    "wa_realestate_qt_sb_type_2018_4_dfp = wa_realestate_qt_sb_type_2018_4_df[:10]\n",
    "wa_realestate_qt_sb_type_2018_4_dfp"
   ]
  },
  {
   "cell_type": "markdown",
   "metadata": {},
   "source": [
    "# 2019"
   ]
  },
  {
   "cell_type": "code",
   "execution_count": null,
   "metadata": {
    "ExecuteTime": {
     "end_time": "2020-10-22T10:01:51.026087Z",
     "start_time": "2020-10-22T10:01:47.733Z"
    }
   },
   "outputs": [],
   "source": [
    "wa_realestate_qt_sb_type_2019_df= wa_realestate_qt_sb_type_df.loc[wa_realestate_qt_sb_type_df['Year'] == 2019]"
   ]
  },
  {
   "cell_type": "code",
   "execution_count": null,
   "metadata": {
    "ExecuteTime": {
     "end_time": "2020-10-22T10:01:51.026980Z",
     "start_time": "2020-10-22T10:01:47.734Z"
    }
   },
   "outputs": [],
   "source": [
    "wa_realestate_qt_sb_type_2019_1_df = wa_realestate_qt_sb_type_2019_df.loc[wa_realestate_qt_sb_type_2019_df['Quarter'] == 1]\n",
    "wa_realestate_qt_sb_type_2019_1_dfp = wa_realestate_qt_sb_type_2019_1_df.nlargest(10, ['Sales'])\n",
    "wa_realestate_qt_sb_type_2019_1_dfp"
   ]
  },
  {
   "cell_type": "code",
   "execution_count": null,
   "metadata": {
    "ExecuteTime": {
     "end_time": "2020-10-22T10:01:51.027831Z",
     "start_time": "2020-10-22T10:01:47.735Z"
    }
   },
   "outputs": [],
   "source": [
    "wa_realestate_qt_sb_type_2019_2_df = wa_realestate_qt_sb_type_2019_df.loc[wa_realestate_qt_sb_type_2019_df['Quarter'] == 2]\n",
    "wa_realestate_qt_sb_type_2019_2_dfp = wa_realestate_qt_sb_type_2019_2_df.nlargest(10, ['Sales'])\n",
    "wa_realestate_qt_sb_type_2019_2_dfp"
   ]
  },
  {
   "cell_type": "code",
   "execution_count": null,
   "metadata": {
    "ExecuteTime": {
     "end_time": "2020-10-22T10:01:51.028834Z",
     "start_time": "2020-10-22T10:01:47.736Z"
    }
   },
   "outputs": [],
   "source": [
    "wa_realestate_qt_sb_type_2019_3_df = wa_realestate_qt_sb_type_2019_df.loc[wa_realestate_qt_sb_type_2019_df['Quarter'] == 3]\n",
    "wa_realestate_qt_sb_type_2019_3_dfp = wa_realestate_qt_sb_type_2019_3_df.nlargest(10, ['Sales'])\n",
    "wa_realestate_qt_sb_type_2019_3_dfp"
   ]
  },
  {
   "cell_type": "code",
   "execution_count": null,
   "metadata": {
    "ExecuteTime": {
     "end_time": "2020-10-22T10:01:51.029653Z",
     "start_time": "2020-10-22T10:01:47.737Z"
    }
   },
   "outputs": [],
   "source": [
    "wa_realestate_qt_sb_type_2019_4_df = wa_realestate_qt_sb_type_2019_df.loc[wa_realestate_qt_sb_type_2019_df['Quarter'] == 4]\n",
    "wa_realestate_qt_sb_type_2019_4_dfp = wa_realestate_qt_sb_type_2019_4_df.nlargest(10, ['Sales'])\n",
    "wa_realestate_qt_sb_type_2019_4_dfp"
   ]
  },
  {
   "cell_type": "code",
   "execution_count": null,
   "metadata": {
    "ExecuteTime": {
     "end_time": "2020-10-22T10:01:51.030565Z",
     "start_time": "2020-10-22T10:01:47.738Z"
    }
   },
   "outputs": [],
   "source": [
    "wa_realestate_qt_sb_type_2020_df= wa_realestate_qt_sb_type_df.loc[wa_realestate_qt_sb_type_df['Year'] == 2020]"
   ]
  },
  {
   "cell_type": "code",
   "execution_count": null,
   "metadata": {
    "ExecuteTime": {
     "end_time": "2020-10-22T10:01:51.031412Z",
     "start_time": "2020-10-22T10:01:47.739Z"
    }
   },
   "outputs": [],
   "source": [
    "wa_realestate_qt_sb_type_2020_1_df = wa_realestate_qt_sb_type_2020_df.loc[wa_realestate_qt_sb_type_2020_df['Quarter'] == 1]\n",
    "wa_realestate_qt_sb_type_2020_1_dfp = wa_realestate_qt_sb_type_2020_1_df.nlargest(10, ['Sales'])\n",
    "wa_realestate_qt_sb_type_2020_1_dfp"
   ]
  },
  {
   "cell_type": "code",
   "execution_count": null,
   "metadata": {
    "ExecuteTime": {
     "end_time": "2020-10-22T10:01:51.032448Z",
     "start_time": "2020-10-22T10:01:47.740Z"
    }
   },
   "outputs": [],
   "source": [
    "wa_realestate_qt_sb_type_2020_2_df = wa_realestate_qt_sb_type_2020_df.loc[wa_realestate_qt_sb_type_2020_df['Quarter'] == 2]\n",
    "wa_realestate_qt_sb_type_2020_2_dfp = wa_realestate_qt_sb_type_2020_2_df.nlargest(10, ['Sales'])\n",
    "wa_realestate_qt_sb_type_2020_2_dfp"
   ]
  },
  {
   "cell_type": "code",
   "execution_count": null,
   "metadata": {
    "ExecuteTime": {
     "end_time": "2020-10-22T10:01:51.033273Z",
     "start_time": "2020-10-22T10:01:47.741Z"
    }
   },
   "outputs": [],
   "source": [
    "plt.figure(figsize=(12,10))\n",
    "plt.plot(mth_lbl_lst, dwellings_mn['Sales'], label='Dwellings', color='green')\n",
    "plt.plot(mth_lbl_lst, townhouses_mn['Sales'], label='Town Houses', color='purple')\n",
    "plt.plot(mth_lbl_lst, apartments_mn['Sales'], label='Apartments', color='orange')\n",
    "plt.xlabel('Months by Year', fontsize = 16)\n",
    "plt.ylabel('Total Sales(n)', fontsize = 16)\n",
    "plt.grid(color='k', linestyle='--', linewidth=0.2)\n",
    "plt.xticks(rotation=90)\n",
    "plt.legend()\n",
    "plt.title('Real Estate Sales by Month from October 2018 to June 2020', fontsize = 16)"
   ]
  },
  {
   "cell_type": "markdown",
   "metadata": {},
   "source": [
    "# Sale Price to Measure performance"
   ]
  },
  {
   "cell_type": "code",
   "execution_count": null,
   "metadata": {
    "ExecuteTime": {
     "end_time": "2020-10-22T10:01:51.034273Z",
     "start_time": "2020-10-22T10:01:47.742Z"
    }
   },
   "outputs": [],
   "source": [
    "wa_realestate_qt_sb_type_df_finq = wa_realestate_df.dropna(how='any')\n",
    "wa_realestate_qt_sb_type_df_finq = wa_realestate_df.groupby(['year', 'quarter']).agg({'price':['mean','median']}).reset_index()\n",
    "wa_realestate_qt_sb_type_df_finq = wa_realestate_qt_sb_type_df_finq[1:-1]\n",
    "wa_realestate_qt_sb_type_df_finq"
   ]
  },
  {
   "cell_type": "code",
   "execution_count": null,
   "metadata": {
    "ExecuteTime": {
     "end_time": "2020-10-22T10:01:51.035153Z",
     "start_time": "2020-10-22T10:01:47.744Z"
    }
   },
   "outputs": [],
   "source": [
    "wa_realestate_qt_sb_type_df_finm = wa_realestate_df.dropna(how='any')\n",
    "wa_realestate_qt_sb_type_df_finm = wa_realestate_df.groupby(['year', 'month']).agg({'price':['mean','median']}).reset_index()\n",
    "wa_realestate_qt_sb_type_df_finm = wa_realestate_qt_sb_type_df_finm[1:-1]\n",
    "wa_realestate_qt_sb_type_df_finm.columns.droplevel(0)\n",
    "wa_realestate_qt_sb_type_df_finm"
   ]
  },
  {
   "cell_type": "markdown",
   "metadata": {
    "ExecuteTime": {
     "end_time": "2020-10-21T13:13:33.550920Z",
     "start_time": "2020-10-21T13:13:33.521909Z"
    }
   },
   "source": [
    "# Percentage Changes Between Quarter 2 2019 and Quarter 2 2020"
   ]
  },
  {
   "cell_type": "code",
   "execution_count": null,
   "metadata": {
    "ExecuteTime": {
     "end_time": "2020-10-22T10:01:51.036107Z",
     "start_time": "2020-10-22T10:01:47.745Z"
    }
   },
   "outputs": [],
   "source": [
    "wa_realestate_qt_sb_type_2019_2_df"
   ]
  },
  {
   "cell_type": "code",
   "execution_count": null,
   "metadata": {
    "ExecuteTime": {
     "end_time": "2020-10-22T10:01:51.036883Z",
     "start_time": "2020-10-22T10:01:47.746Z"
    }
   },
   "outputs": [],
   "source": [
    "wa_realestate_qt_sb_type_2020_2_df"
   ]
  },
  {
   "cell_type": "code",
   "execution_count": null,
   "metadata": {
    "ExecuteTime": {
     "end_time": "2020-10-22T10:01:51.037933Z",
     "start_time": "2020-10-22T10:01:47.747Z"
    }
   },
   "outputs": [],
   "source": [
    "wa_re_qt_sb_to_20_2_mg = pd.merge(wa_realestate_qt_sb_type_2019_2_df,wa_realestate_qt_sb_type_2020_2_df[['Key_Column','Target_Column']],on='Key_Column', how='left')"
   ]
  },
  {
   "cell_type": "code",
   "execution_count": 25,
   "metadata": {
    "ExecuteTime": {
     "end_time": "2020-10-22T10:02:18.080915Z",
     "start_time": "2020-10-22T10:02:18.073998Z"
    }
   },
   "outputs": [
    {
     "ename": "NameError",
     "evalue": "name 'wa_re_qt_sb_to_20_2_mg' is not defined",
     "output_type": "error",
     "traceback": [
      "\u001b[0;31m---------------------------------------------------------------------------\u001b[0m",
      "\u001b[0;31mNameError\u001b[0m                                 Traceback (most recent call last)",
      "\u001b[0;32m<ipython-input-25-7102c0601b77>\u001b[0m in \u001b[0;36m<module>\u001b[0;34m\u001b[0m\n\u001b[0;32m----> 1\u001b[0;31m \u001b[0mwa_re_qt_sb_to_20_2_mg\u001b[0m\u001b[0;34m\u001b[0m\u001b[0;34m\u001b[0m\u001b[0m\n\u001b[0m",
      "\u001b[0;31mNameError\u001b[0m: name 'wa_re_qt_sb_to_20_2_mg' is not defined"
     ]
    }
   ],
   "source": [
    "wa_re_qt_sb_to_20_2_mg"
   ]
  },
  {
   "cell_type": "code",
   "execution_count": null,
   "metadata": {},
   "outputs": [],
   "source": []
  },
  {
   "cell_type": "code",
   "execution_count": null,
   "metadata": {},
   "outputs": [],
   "source": []
  },
  {
   "cell_type": "code",
   "execution_count": null,
   "metadata": {},
   "outputs": [],
   "source": []
  },
  {
   "cell_type": "code",
   "execution_count": null,
   "metadata": {},
   "outputs": [],
   "source": []
  },
  {
   "cell_type": "code",
   "execution_count": null,
   "metadata": {},
   "outputs": [],
   "source": []
  },
  {
   "cell_type": "code",
   "execution_count": null,
   "metadata": {},
   "outputs": [],
   "source": []
  },
  {
   "cell_type": "code",
   "execution_count": null,
   "metadata": {},
   "outputs": [],
   "source": []
  }
 ],
 "metadata": {
  "kernelspec": {
   "display_name": "Python 3",
   "language": "python",
   "name": "python3"
  },
  "language_info": {
   "codemirror_mode": {
    "name": "ipython",
    "version": 3
   },
   "file_extension": ".py",
   "mimetype": "text/x-python",
   "name": "python",
   "nbconvert_exporter": "python",
   "pygments_lexer": "ipython3",
   "version": "3.7.9"
  }
 },
 "nbformat": 4,
 "nbformat_minor": 4
}
